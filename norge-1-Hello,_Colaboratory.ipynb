{
  "nbformat": 4,
  "nbformat_minor": 0,
  "metadata": {
    "colab": {
      "name": "Hello, Colaboratory",
      "version": "0.3.2",
      "provenance": [],
      "collapsed_sections": [],
      "toc_visible": true,
      "include_colab_link": true
    },
    "kernelspec": {
      "display_name": "Python 3",
      "name": "python3"
    }
  },
  "cells": [
    {
      "cell_type": "markdown",
      "metadata": {
        "id": "view-in-github",
        "colab_type": "text"
      },
      "source": [
        "<a href=\"https://colab.research.google.com/github/zaknbur/data/blob/master/norge-1-Hello%2C_Colaboratory.ipynb\" target=\"_parent\"><img src=\"https://colab.research.google.com/assets/colab-badge.svg\" alt=\"Open In Colab\"/></a>"
      ]
    },
    {
      "cell_type": "markdown",
      "metadata": {
        "colab_type": "text",
        "id": "9J7p406abzgl"
      },
      "source": [
        "<img height=\"60px\" src=\"https://colab.research.google.com/img/colab_favicon.ico\" align=\"left\" hspace=\"20px\" vspace=\"5px\">\n",
        "\n",
        "<h1>Welcome to Colaboratory!</h1>\n",
        "Colaboratory is a free Jupyter notebook environment that requires no setup and runs entirely in the cloud. See our [FAQ](https://research.google.com/colaboratory/faq.html) for more info."
      ]
    },
    {
      "cell_type": "markdown",
      "metadata": {
        "colab_type": "text",
        "id": "-Rh3-Vt9Nev9"
      },
      "source": [
        "## Getting Started\n",
        "- [Overview of Colaboratory](/notebooks/basic_features_overview.ipynb)\n",
        "- [Loading and saving data: Local files, Drive, Sheets, Google Cloud Storage](/notebooks/io.ipynb)\n",
        "- [Importing libraries and installing dependencies](/notebooks/snippets/importing_libraries.ipynb)\n",
        "- [Using Google Cloud BigQuery](/notebooks/bigquery.ipynb)\n",
        "- [Forms](/notebooks/forms.ipynb), [Charts](/notebooks/charts.ipynb), [Markdown](/notebooks/markdown_guide.ipynb), & [Widgets](/notebooks/widgets.ipynb)\n",
        "- [TensorFlow with GPU](/notebooks/gpu.ipynb)\n",
        "- [TensorFlow with TPU](/notebooks/tpu.ipynb)\n",
        "- [Machine Learning Crash Course](https://developers.google.com/machine-learning/crash-course/): [Intro to Pandas](/notebooks/mlcc/intro_to_pandas.ipynb) & [First Steps with TensorFlow](/notebooks/mlcc/first_steps_with_tensor_flow.ipynb)\n",
        "- [Using Colab with GitHub](https://colab.research.google.com/github/googlecolab/colabtools/blob/master/notebooks/colab-github-demo.ipynb)\n"
      ]
    },
    {
      "cell_type": "markdown",
      "metadata": {
        "colab_type": "text",
        "id": "1fr51oVCHRZU"
      },
      "source": [
        "## Highlighted Features\n",
        "### Seedbank\n",
        "\n",
        "Looking for Colab notebooks to learn from? Check out [Seedbank](https://tools.google.com/seedbank/), a place to discover interactive machine learning examples."
      ]
    },
    {
      "cell_type": "markdown",
      "metadata": {
        "colab_type": "text",
        "id": "9wi5kfGdhK0R"
      },
      "source": [
        "### TensorFlow execution"
      ]
    },
    {
      "cell_type": "markdown",
      "metadata": {
        "colab_type": "text",
        "id": "S9GW-n-oYWIj"
      },
      "source": [
        "Colaboratory allows you to execute TensorFlow code in your browser with a single click. The example below adds two matrices.\n",
        "\n",
        "$\\begin{bmatrix}\n",
        "  1. & 1. & 1. \\\\\n",
        "  1. & 1. & 1. \\\\\n",
        "\\end{bmatrix} +\n",
        "\\begin{bmatrix}\n",
        "  1. & 2. & 3. \\\\\n",
        "  4. & 5. & 6. \\\\\n",
        "\\end{bmatrix} =\n",
        "\\begin{bmatrix}\n",
        "  2. & 3. & 4. \\\\\n",
        "  5. & 6. & 7. \\\\\n",
        "\\end{bmatrix}$"
      ]
    },
    {
      "cell_type": "code",
      "metadata": {
        "colab_type": "code",
        "id": "oYZkU7ZN3CL0",
        "outputId": "7eb349d8-5143-4140-bcf8-5b2785b39fb3",
        "colab": {
          "base_uri": "https://localhost:8080/",
          "height": 51
        }
      },
      "source": [
        "import tensorflow as tf\n",
        "\n",
        "input1 = tf.ones((2, 3))\n",
        "input2 = tf.reshape(tf.range(1, 7, dtype=tf.float32), (2, 3))\n",
        "output = input1 + input2\n",
        "\n",
        "with tf.Session():\n",
        "  result = output.eval()\n",
        "result  "
      ],
      "execution_count": 1,
      "outputs": [
        {
          "output_type": "execute_result",
          "data": {
            "text/plain": [
              "array([[2., 3., 4.],\n",
              "       [5., 6., 7.]], dtype=float32)"
            ]
          },
          "metadata": {
            "tags": []
          },
          "execution_count": 1
        }
      ]
    },
    {
      "cell_type": "markdown",
      "metadata": {
        "colab_type": "text",
        "id": "nwYF0E3Sjiy4"
      },
      "source": [
        "### GitHub\n",
        "\n",
        "For a full discussion of interactions between Colab and GitHub, see [Using Colab with GitHub](https://colab.research.google.com/github/googlecolab/colabtools/blob/master/notebooks/colab-github-demo.ipynb). As a brief summary:\n",
        "\n",
        "To save a copy of your Colab notebook to Github, select *File → Save a copy to GitHub…*\n",
        "\n",
        "To load a specific notebook from github, append the github path to http://colab.research.google.com/github/.\n",
        "For example to load this notebook in Colab: [https://github.com/tensorflow/docs/blob/master/site/en/tutorials/_index.ipynb](https://github.com/tensorflow/docs/blob/master/site/en/tutorials/_index.ipynb) use the following Colab URL: [https://colab.research.google.com/github/tensorflow/docs/blob/master/site/en/tutorials/_index.ipynb](https://colab.research.google.com/github/tensorflow/docs/blob/master/site/en/tutorials/_index.ipynb)\n",
        "\n",
        "To open a github notebook in one click, we recommend installing the [Open in Colab Chrome Extension](https://chrome.google.com/webstore/detail/open-in-colab/iogfkhleblhcpcekbiedikdehleodpjo).\n",
        "\n"
      ]
    },
    {
      "cell_type": "markdown",
      "metadata": {
        "colab_type": "text",
        "id": "yv2XIwi5hQ_g"
      },
      "source": [
        "### Visualization"
      ]
    },
    {
      "cell_type": "markdown",
      "metadata": {
        "colab_type": "text",
        "id": "rYs5mx2JZkmy"
      },
      "source": [
        "Colaboratory includes widely used libraries like [matplotlib](https://matplotlib.org/), simplifying visualization."
      ]
    },
    {
      "cell_type": "code",
      "metadata": {
        "colab_type": "code",
        "id": "xqrc5C-IaA5J",
        "outputId": "c574ea0a-9585-4bcc-b384-b16692a7e308",
        "colab": {
          "base_uri": "https://localhost:8080/",
          "height": 269
        }
      },
      "source": [
        "import matplotlib.pyplot as plt\n",
        "import numpy as np\n",
        "\n",
        "x = np.arange(20)\n",
        "y = [x_i + np.random.randn(1) for x_i in x]\n",
        "a, b = np.polyfit(x, y, 1)\n",
        "_ = plt.plot(x, y, 'o', np.arange(20), a*np.arange(20)+b, '-')"
      ],
      "execution_count": 2,
      "outputs": [
        {
          "output_type": "display_data",
          "data": {
            "image/png": "[encoded data removed]",
            "text/plain": [
              "<Figure size 432x288 with 1 Axes>"
            ]
          },
          "metadata": {
            "tags": []
          }
        }
      ]
    },
    {
      "cell_type": "markdown",
      "metadata": {
        "colab_type": "text",
        "id": "AN_LRQ9NkOjs"
      },
      "source": [
        "Want to use a new library?  `pip install` it at the top of the notebook. Then that library can be used anywhere else in the notebook. For recipes to import commonly used libraries, refer to the [importing libraries example notebook](/notebooks/snippets/importing_libraries.ipynb)."
      ]
    },
    {
      "cell_type": "code",
      "metadata": {
        "colab_type": "code",
        "id": "FlQq0SUepQbd",
        "outputId": "d519af13-aa73-4bf8-dbfb-e822b1cd1f1c",
        "colab": {
          "base_uri": "https://localhost:8080/",
          "height": 250
        }
      },
      "source": [
        "!pip install -q matplotlib-venn\n",
        "\n",
        "from matplotlib_venn import venn2\n",
        "_ = venn2(subsets = (3, 2, 1))"
      ],
      "execution_count": 3,
      "outputs": [
        {
          "output_type": "display_data",
          "data": {
            "image/png": "[encoded data removed]",
            "text/plain": [
              "<Figure size 432x288 with 1 Axes>"
            ]
          },
          "metadata": {
            "tags": []
          }
        }
      ]
    },
    {
      "cell_type": "markdown",
      "metadata": {
        "colab_type": "text",
        "id": "LxZ3dPzYnyNF"
      },
      "source": [
        "### Forms\n",
        "\n",
        "Forms can be used to parameterize code. See the [forms example notebook](/notebooks/forms.ipynb) for more details."
      ]
    },
    {
      "cell_type": "code",
      "metadata": {
        "colab_type": "code",
        "id": "FQ_Hx_9tn7uF",
        "colab": {}
      },
      "source": [
        "#@title Examples\n",
        "\n",
        "text = 'value' #@param \n",
        "date_input = '2018-03-22' #@param {type:\"date\"}\n",
        "number_slider = -0.2 #@param {type:\"slider\", min:-1, max:1, step:0.1}\n",
        "dropdown = '1st option' #@param [\"1st option\", \"2nd option\", \"3rd option\"]\n"
      ],
      "execution_count": 0,
      "outputs": []
    },
    {
      "cell_type": "markdown",
      "metadata": {
        "colab_type": "text",
        "id": "rTX3heEtu0b2"
      },
      "source": [
        "### Local runtime support\n",
        "\n",
        "Colab  supports connecting to a Jupyter runtime on your local machine. For more information, see our [documentation](https://research.google.com/colaboratory/local-runtimes.html)."
      ]
    },
    {
      "cell_type": "code",
      "metadata": {
        "id": "-VqvfCCef41k",
        "colab_type": "code",
        "colab": {}
      },
      "source": [
        "import pandas as pd"
      ],
      "execution_count": 0,
      "outputs": []
    },
    {
      "cell_type": "code",
      "metadata": {
        "id": "r7wcv5ZwmgyT",
        "colab_type": "code",
        "outputId": "3024ce21-d5e3-416e-b2d0-8d666c0fd46b",
        "colab": {
          "base_uri": "https://localhost:8080/",
          "height": 204
        }
      },
      "source": [
        "# Load the Pandas libraries with alias 'pd' \n",
        "import pandas as pd \n",
        "# Read data from file 'filename.csv' \n",
        "# (in the same directory that your python process is based)\n",
        "# Control delimiters, rows, column names with read_csv (see later) \n",
        "data = pd.read_csv('https://raw.githubusercontent.com/zaknbur/data/master/norge/norway') \n",
        "# Preview the first 5 lines of the loaded data \n",
        "data.head()"
      ],
      "execution_count": 8,
      "outputs": [
        {
          "output_type": "execute_result",
          "data": {
            "text/html": [
              "<div>\n",
              "<style scoped>\n",
              "    .dataframe tbody tr th:only-of-type {\n",
              "        vertical-align: middle;\n",
              "    }\n",
              "\n",
              "    .dataframe tbody tr th {\n",
              "        vertical-align: top;\n",
              "    }\n",
              "\n",
              "    .dataframe thead th {\n",
              "        text-align: right;\n",
              "    }\n",
              "</style>\n",
              "<table border=\"1\" class=\"dataframe\">\n",
              "  <thead>\n",
              "    <tr style=\"text-align: right;\">\n",
              "      <th></th>\n",
              "      <th>LINE</th>\n",
              "      <th>MAGFIELD</th>\n",
              "      <th>GPSLAT</th>\n",
              "      <th>GPSLON</th>\n",
              "    </tr>\n",
              "  </thead>\n",
              "  <tbody>\n",
              "    <tr>\n",
              "      <th>0</th>\n",
              "      <td>NaN</td>\n",
              "      <td>NaN</td>\n",
              "      <td>NaN</td>\n",
              "      <td>NaN</td>\n",
              "    </tr>\n",
              "    <tr>\n",
              "      <th>1</th>\n",
              "      <td>1.0</td>\n",
              "      <td>51990.5</td>\n",
              "      <td>63.665813</td>\n",
              "      <td>12.149861</td>\n",
              "    </tr>\n",
              "    <tr>\n",
              "      <th>2</th>\n",
              "      <td>1.0</td>\n",
              "      <td>51999.6</td>\n",
              "      <td>63.666035</td>\n",
              "      <td>12.149779</td>\n",
              "    </tr>\n",
              "    <tr>\n",
              "      <th>3</th>\n",
              "      <td>1.0</td>\n",
              "      <td>51990.9</td>\n",
              "      <td>63.666260</td>\n",
              "      <td>12.149758</td>\n",
              "    </tr>\n",
              "    <tr>\n",
              "      <th>4</th>\n",
              "      <td>1.0</td>\n",
              "      <td>51988.1</td>\n",
              "      <td>63.666465</td>\n",
              "      <td>12.149815</td>\n",
              "    </tr>\n",
              "  </tbody>\n",
              "</table>\n",
              "</div>"
            ],
            "text/plain": [
              "   LINE  MAGFIELD     GPSLAT     GPSLON\n",
              "0   NaN       NaN        NaN        NaN\n",
              "1   1.0   51990.5  63.665813  12.149861\n",
              "2   1.0   51999.6  63.666035  12.149779\n",
              "3   1.0   51990.9  63.666260  12.149758\n",
              "4   1.0   51988.1  63.666465  12.149815"
            ]
          },
          "metadata": {
            "tags": []
          },
          "execution_count": 8
        }
      ]
    },
    {
      "cell_type": "code",
      "metadata": {
        "id": "ECbdMFy4HSwZ",
        "colab_type": "code",
        "colab": {
          "base_uri": "https://localhost:8080/",
          "height": 34
        },
        "outputId": "7b83424c-8dfd-49f8-e34d-1169aaddf0cf"
      },
      "source": [
        "print(data.shape)"
      ],
      "execution_count": 9,
      "outputs": [
        {
          "output_type": "stream",
          "text": [
            "(544, 4)\n"
          ],
          "name": "stdout"
        }
      ]
    },
    {
      "cell_type": "code",
      "metadata": {
        "id": "H8kcIMzHNHeA",
        "colab_type": "code",
        "colab": {
          "base_uri": "https://localhost:8080/",
          "height": 102
        },
        "outputId": "787e123a-dfed-4f1f-e38d-9e1568f07428"
      },
      "source": [
        "print(data.dtypes)"
      ],
      "execution_count": 15,
      "outputs": [
        {
          "output_type": "stream",
          "text": [
            "LINE        float64\n",
            "MAGFIELD    float64\n",
            "GPSLAT      float64\n",
            "GPSLON      float64\n",
            "dtype: object\n"
          ],
          "name": "stdout"
        }
      ]
    },
    {
      "cell_type": "code",
      "metadata": {
        "id": "04iIytpJOA6p",
        "colab_type": "code",
        "colab": {
          "base_uri": "https://localhost:8080/",
          "height": 1000
        },
        "outputId": "06a430fc-627c-4039-bda8-3a595fa53284"
      },
      "source": [
        "print(data.pivot)"
      ],
      "execution_count": 17,
      "outputs": [
        {
          "output_type": "stream",
          "text": [
            "<bound method DataFrame.pivot of      LINE  MAGFIELD     GPSLAT     GPSLON\n",
            "0     NaN       NaN        NaN        NaN\n",
            "1     1.0   51990.5  63.665813  12.149861\n",
            "2     1.0   51999.6  63.666035  12.149779\n",
            "3     1.0   51990.9  63.666260  12.149758\n",
            "4     1.0   51988.1  63.666465  12.149815\n",
            "5     1.0   52004.7  63.666723  12.149768\n",
            "6     1.0   52033.8  63.666940  12.149748\n",
            "7     1.0   52112.7  63.667143  12.149724\n",
            "8     1.0   52059.8  63.667385  12.149774\n",
            "9     1.0   51973.3  63.667633  12.149734\n",
            "10    1.0   52084.0  63.667825  12.149740\n",
            "11    1.0   52153.4  63.668060  12.149781\n",
            "12    1.0   52135.2  63.668273  12.149726\n",
            "13    1.0   52149.7  63.668498  12.149723\n",
            "14    1.0   52108.7  63.668745  12.149663\n",
            "15    1.0   52108.2  63.668974  12.149661\n",
            "16    1.0   52240.2  63.669195  12.149611\n",
            "17    1.0   52239.0  63.669391  12.149603\n",
            "18    1.0   52310.0  63.669639  12.149604\n",
            "19    1.0   52275.5  63.669855  12.149579\n",
            "20    1.0   52205.3  63.670063  12.149536\n",
            "21    1.0   52299.1  63.670295  12.149543\n",
            "22    1.0   52217.1  63.670506  12.149516\n",
            "23    1.0   52382.9  63.670746  12.149568\n",
            "24    1.0   52236.9  63.670980  12.149531\n",
            "25    1.0   52195.4  63.671180  12.149463\n",
            "26    1.0   52167.9  63.671420  12.149471\n",
            "27    1.0   52336.1  63.671650  12.149516\n",
            "28    1.0   52243.2  63.671859  12.149463\n",
            "29    1.0   51959.9  63.672085  12.149408\n",
            "..    ...       ...        ...        ...\n",
            "514  13.0   52192.3  63.668349  12.155985\n",
            "515  13.0   52701.6  63.668564  12.155965\n",
            "516  13.0   52392.3  63.668798  12.155911\n",
            "517  13.0   51671.6  63.669015  12.155973\n",
            "518  13.0   51967.9  63.669235  12.155938\n",
            "519  13.0   51947.3  63.669461  12.155915\n",
            "520  13.0   52044.6  63.669686  12.155928\n",
            "521  13.0   52158.6  63.669923  12.155861\n",
            "522  13.0   52121.3  63.670156  12.155858\n",
            "523  13.0   52158.9  63.670353  12.155833\n",
            "524  13.0   52235.9  63.670581  12.155871\n",
            "525  13.0   52261.5  63.670805  12.155858\n",
            "526  13.0   52303.9  63.671058  12.155790\n",
            "527  13.0   52402.3  63.671251  12.155718\n",
            "528  13.0   52149.6  63.671515  12.155756\n",
            "529  13.0   52156.5  63.671696  12.155800\n",
            "530  13.0   52139.9  63.671930  12.155780\n",
            "531  13.0   52193.6  63.672163  12.155723\n",
            "532  13.0   52240.4  63.672400  12.155708\n",
            "533  13.0   52307.0  63.672615  12.155648\n",
            "534  13.0   52431.0  63.672826  12.155606\n",
            "535  13.0   51799.0  63.673043  12.155620\n",
            "536  13.0   52086.8  63.673291  12.155688\n",
            "537  13.0   52185.8  63.673533  12.155658\n",
            "538  13.0   52145.2  63.673726  12.155600\n",
            "539  13.0   52097.9  63.673950  12.155583\n",
            "540  13.0   52099.5  63.674201  12.155568\n",
            "541  13.0   52117.5  63.674425  12.155541\n",
            "542  13.0   52183.9  63.674648  12.155495\n",
            "543  13.0   51966.3  63.674851  12.155538\n",
            "\n",
            "[544 rows x 4 columns]>\n"
          ],
          "name": "stdout"
        }
      ]
    },
    {
      "cell_type": "code",
      "metadata": {
        "id": "Bbepsma4Jw5Q",
        "colab_type": "code",
        "colab": {
          "base_uri": "https://localhost:8080/",
          "height": 163
        },
        "outputId": "0c9512d0-0564-459d-ced2-6484998ca1b4"
      },
      "source": [
        "col_names = [MAGFIELD,GPSLAT,GPSLON]"
      ],
      "execution_count": 14,
      "outputs": [
        {
          "output_type": "error",
          "ename": "NameError",
          "evalue": "ignored",
          "traceback": [
            "\u001b[0;31m---------------------------------------------------------------------------\u001b[0m",
            "\u001b[0;31mNameError\u001b[0m                                 Traceback (most recent call last)",
            "\u001b[0;32m<ipython-input-14-920b88ed0efe>\u001b[0m in \u001b[0;36m<module>\u001b[0;34m()\u001b[0m\n\u001b[0;32m----> 1\u001b[0;31m \u001b[0mcol_names\u001b[0m \u001b[0;34m=\u001b[0m \u001b[0;34m[\u001b[0m\u001b[0mMAGFIELD\u001b[0m\u001b[0;34m,\u001b[0m\u001b[0mGPSLAT\u001b[0m\u001b[0;34m,\u001b[0m\u001b[0mGPSLON\u001b[0m\u001b[0;34m]\u001b[0m\u001b[0;34m\u001b[0m\u001b[0;34m\u001b[0m\u001b[0m\n\u001b[0m",
            "\u001b[0;31mNameError\u001b[0m: name 'MAGFIELD' is not defined"
          ]
        }
      ]
    },
    {
      "cell_type": "code",
      "metadata": {
        "id": "z4JmxyqVHSEU",
        "colab_type": "code",
        "colab": {}
      },
      "source": [
        ""
      ],
      "execution_count": 0,
      "outputs": []
    },
    {
      "cell_type": "code",
      "metadata": {
        "id": "R6qgBakEnSnC",
        "colab_type": "code",
        "colab": {}
      },
      "source": [
        "# Load the Pandas libraries with alias 'pd' \n",
        "import pandas as pd \n",
        "# Read data from file 'filename.csv' \n",
        "# (in the same directory that your python process is based)\n",
        "# Control delimiters, rows, column names with read_csv (see later) \n",
        "data = pd.read_csv(\"russian-mn-maroc.csv\") \n",
        "# Preview the first 5 lines of the loaded data \n",
        "data.head()"
      ],
      "execution_count": 0,
      "outputs": []
    },
    {
      "cell_type": "code",
      "metadata": {
        "id": "_CAC190Bnohx",
        "colab_type": "code",
        "colab": {}
      },
      "source": [
        "# Load the Pandas libraries with alias 'pd' \n",
        "import pandas as pd \n",
        "# Read data from file 'filename.csv' \n",
        "# (in the same directory that your python process is based)\n",
        "# Control delimiters, rows, column names with read_csv (see later) \n",
        "data = pd.read_csv(\"zim-gold-grab.csv\") \n",
        "# Preview the first 5 lines of the loaded data \n",
        "data.head()"
      ],
      "execution_count": 0,
      "outputs": []
    },
    {
      "cell_type": "code",
      "metadata": {
        "id": "PhWmeShFr1hL",
        "colab_type": "code",
        "colab": {}
      },
      "source": [
        "import cartopy.crs as ccrs\n",
        "import matplotlib.pyplot as plt\n",
        "\n",
        "ax = plt.axes(projection=ccrs.PlateCarree())\n",
        "ax.coastlines()\n",
        "\n",
        "# Save the plot by calling plt.savefig() BEFORE plt.show()\n",
        "plt.savefig('coastlines.pdf')\n",
        "plt.savefig('coastlines.png')\n",
        "\n",
        "plt.show()"
      ],
      "execution_count": 0,
      "outputs": []
    },
    {
      "cell_type": "code",
      "metadata": {
        "id": "ys5Xgr2HtA8c",
        "colab_type": "code",
        "colab": {}
      },
      "source": [
        "import numpy as np\n",
        "import matplotlib as mpl\n",
        "import matplotlib.pyplot as plt\n",
        "%matplotlib inline"
      ],
      "execution_count": 0,
      "outputs": []
    },
    {
      "cell_type": "code",
      "metadata": {
        "id": "4FP0km1ZtHyv",
        "colab_type": "code",
        "colab": {}
      },
      "source": [
        "!apt-get -qq install python-cartopy python3-cartopy\n",
        "import cartopy"
      ],
      "execution_count": 0,
      "outputs": []
    },
    {
      "cell_type": "code",
      "metadata": {
        "id": "FwpTeYz-thWf",
        "colab_type": "code",
        "colab": {}
      },
      "source": [
        "sorted(mpl.style.available)\n",
        "['bmh',\n",
        " 'classic',\n",
        " 'dark_background',\n",
        " 'fivethirtyeight',\n",
        " 'ggplot',\n",
        " 'grayscale',\n",
        " 'mycustomstyle',\n",
        " 'seaborn',\n",
        " ...\n",
        " 'seaborn-whitegrid']"
      ],
      "execution_count": 0,
      "outputs": []
    },
    {
      "cell_type": "code",
      "metadata": {
        "id": "j1d7EobBtrxd",
        "colab_type": "code",
        "colab": {}
      },
      "source": [
        "def doplot():\n",
        "    fig, ax = plt.subplots(1, 1, figsize=(5, 5))\n",
        "    t = np.linspace(-2 * np.pi, 2 * np.pi, 1000)\n",
        "    x = np.linspace(0, 14, 100)\n",
        "    for i in range(1, 7):\n",
        "        ax.plot(x, np.sin(x + i * .5) * (7 - i))\n",
        "    return ax"
      ],
      "execution_count": 0,
      "outputs": []
    },
    {
      "cell_type": "code",
      "metadata": {
        "id": "ijkkpoaotyCI",
        "colab_type": "code",
        "colab": {}
      },
      "source": [
        "mpl.style.use('fivethirtyeight')\n",
        "doplot()"
      ],
      "execution_count": 0,
      "outputs": []
    },
    {
      "cell_type": "code",
      "metadata": {
        "id": "qBc-npSBt7uW",
        "colab_type": "code",
        "colab": {}
      },
      "source": [
        "# Set the default style.\n",
        "mpl.style.use('default')\n",
        "# Temporarily switch to the ggplot style.\n",
        "with mpl.style.context('ggplot'):\n",
        "    ax = doplot()\n",
        "    ax.set_title('ggplot style')\n",
        "# Back to the default style.\n",
        "ax = doplot()\n",
        "ax.set_title('default style')"
      ],
      "execution_count": 0,
      "outputs": []
    }
  ]
}