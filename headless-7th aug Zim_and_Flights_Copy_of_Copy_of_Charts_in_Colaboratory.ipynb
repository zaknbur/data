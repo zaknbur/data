{
  "nbformat": 4,
  "nbformat_minor": 0,
  "metadata": {
    "colab": {
      "name": "Zim and Flights Copy of Copy of Charts in Colaboratory",
      "version": "0.3.2",
      "provenance": [],
      "collapsed_sections": [],
      "toc_visible": true,
      "include_colab_link": true
    },
    "kernelspec": {
      "display_name": "Python 3",
      "name": "python3"
    }
  },
  "cells": [
    {
      "cell_type": "markdown",
      "metadata": {
        "id": "view-in-github",
        "colab_type": "text"
      },
      "source": [
        "<a href=\"https://colab.research.google.com/github/zaknbur/data/blob/master/headless-7th%20aug%20Zim_and_Flights_Copy_of_Copy_of_Charts_in_Colaboratory.ipynb\" target=\"_parent\"><img src=\"https://colab.research.google.com/assets/colab-badge.svg\" alt=\"Open In Colab\"/></a>"
      ]
    },
    {
      "cell_type": "markdown",
      "metadata": {
        "colab_type": "text",
        "id": "QSMmdrrVLZ-N"
      },
      "source": [
        "# Charting in Colaboratory\n",
        "\n",
        "A common use for notebooks is data visualization using charts. Colaboratory makes this easy with several charting tools available as Python imports."
      ]
    },
    {
      "cell_type": "code",
      "metadata": {
        "id": "VmZgvBQk9uNU",
        "colab_type": "code",
        "colab": {}
      },
      "source": [
        "import numpy as np\n",
        "import seaborn as sns\n",
        "import pandas as pd \n",
        "import matplotlib.pyplot as plt"
      ],
      "execution_count": 0,
      "outputs": []
    },
    {
      "cell_type": "code",
      "metadata": {
        "id": "R68qzgG78GpA",
        "colab_type": "code",
        "outputId": "00636ccf-b194-4fe0-ed61-c1d966b7d3a4",
        "colab": {
          "base_uri": "https://localhost:8080/",
          "height": 34
        }
      },
      "source": [
        "%ls"
      ],
      "execution_count": 0,
      "outputs": [
        {
          "output_type": "stream",
          "text": [
            "\u001b[0m\u001b[01;34msample_data\u001b[0m/\n"
          ],
          "name": "stdout"
        }
      ]
    },
    {
      "cell_type": "code",
      "metadata": {
        "id": "5R0gc3xin5o_",
        "colab_type": "code",
        "colab": {}
      },
      "source": [
        "zim_gold = pd.read_csv ('https://raw.githubusercontent.com/zaknbur/data/master/norge/mutated_matrix.csv')"
      ],
      "execution_count": 0,
      "outputs": []
    },
    {
      "cell_type": "code",
      "metadata": {
        "id": "nsP8vtHk9axE",
        "colab_type": "code",
        "outputId": "0ccdf47f-d673-49d9-8483-8bfb2c23eeac",
        "colab": {
          "base_uri": "https://localhost:8080/",
          "height": 289
        }
      },
      "source": [
        "print (zim_gold)"
      ],
      "execution_count": 3,
      "outputs": [
        {
          "output_type": "stream",
          "text": [
            "     East  5800  5900  6000  6100  6200  ...  9300  9400  9500  9600  9700  9800\n",
            "0   15000     0     0     0     0     5  ...   105   133   150   151    75    86\n",
            "1   15100     0     0     0     0     0  ...   154   196   239   322   183    88\n",
            "2   15200     0    24    14     0    13  ...   170   250   515   218   182   114\n",
            "3   15300    12    23    44     0    40  ...   206   193   185   165   151    93\n",
            "4   15400     0    10     0    24    28  ...   214   186   165   132   132   116\n",
            "5   15500    20     0    16    24    59  ...   209   167   112   116   112   112\n",
            "6   15600    63    10    53    18    32  ...   185   151   120   102   108   121\n",
            "7   15700    27    18    25    26    29  ...   180   155   132   111   107   120\n",
            "8   15800    12    20    21    12    43  ...   184   147   124   112   113   157\n",
            "9   15900     0     0    17    13    51  ...   207   141   223    89   104    70\n",
            "10  16000     0     0     0     0    21  ...   230     0    75   102     0     8\n",
            "11  16100     0    27     0     0    42  ...   217   189   165    84   102    76\n",
            "12  16200     0     0     0    46     0  ...   145    98   100   118   184     0\n",
            "\n",
            "[13 rows x 42 columns]\n"
          ],
          "name": "stdout"
        }
      ]
    },
    {
      "cell_type": "code",
      "metadata": {
        "id": "iFyTnWXxe0f0",
        "colab_type": "code",
        "outputId": "ea53ca43-994f-4366-9875-e7aa49b4c235",
        "colab": {
          "base_uri": "https://localhost:8080/",
          "height": 204
        }
      },
      "source": [
        "zim_gold.head(5)"
      ],
      "execution_count": 0,
      "outputs": [
        {
          "output_type": "execute_result",
          "data": {
            "text/html": [
              "<div>\n",
              "<style scoped>\n",
              "    .dataframe tbody tr th:only-of-type {\n",
              "        vertical-align: middle;\n",
              "    }\n",
              "\n",
              "    .dataframe tbody tr th {\n",
              "        vertical-align: top;\n",
              "    }\n",
              "\n",
              "    .dataframe thead th {\n",
              "        text-align: right;\n",
              "    }\n",
              "</style>\n",
              "<table border=\"1\" class=\"dataframe\">\n",
              "  <thead>\n",
              "    <tr style=\"text-align: right;\">\n",
              "      <th></th>\n",
              "      <th>Northings</th>\n",
              "      <th>Eastings</th>\n",
              "      <th>Au-gpt</th>\n",
              "    </tr>\n",
              "  </thead>\n",
              "  <tbody>\n",
              "    <tr>\n",
              "      <th>0</th>\n",
              "      <td>7725</td>\n",
              "      <td>12065</td>\n",
              "      <td>0.011</td>\n",
              "    </tr>\n",
              "    <tr>\n",
              "      <th>1</th>\n",
              "      <td>7775</td>\n",
              "      <td>12065</td>\n",
              "      <td>0.010</td>\n",
              "    </tr>\n",
              "    <tr>\n",
              "      <th>2</th>\n",
              "      <td>7825</td>\n",
              "      <td>12065</td>\n",
              "      <td>0.018</td>\n",
              "    </tr>\n",
              "    <tr>\n",
              "      <th>3</th>\n",
              "      <td>7875</td>\n",
              "      <td>12065</td>\n",
              "      <td>0.014</td>\n",
              "    </tr>\n",
              "    <tr>\n",
              "      <th>4</th>\n",
              "      <td>7925</td>\n",
              "      <td>12065</td>\n",
              "      <td>0.010</td>\n",
              "    </tr>\n",
              "  </tbody>\n",
              "</table>\n",
              "</div>"
            ],
            "text/plain": [
              "   Northings  Eastings  Au-gpt\n",
              "0       7725     12065   0.011\n",
              "1       7775     12065   0.010\n",
              "2       7825     12065   0.018\n",
              "3       7875     12065   0.014\n",
              "4       7925     12065   0.010"
            ]
          },
          "metadata": {
            "tags": []
          },
          "execution_count": 8
        }
      ]
    },
    {
      "cell_type": "markdown",
      "metadata": {
        "id": "d-3lqm3NUuUx",
        "colab_type": "text"
      },
      "source": [
        "Norwegian magnetic survey\n"
      ]
    },
    {
      "cell_type": "code",
      "metadata": {
        "colab_type": "code",
        "id": "WgOjKcMbVBsH",
        "colab": {}
      },
      "source": [
        "norway_mag = pd.read_csv ('https://raw.githubusercontent.com/zaknbur/data/master/norway-mag-survey.csv')"
      ],
      "execution_count": 0,
      "outputs": []
    },
    {
      "cell_type": "markdown",
      "metadata": {
        "id": "lYU2FYr-hsXj",
        "colab_type": "text"
      },
      "source": [
        "/content/mutated_matrix_headless.csv"
      ]
    },
    {
      "cell_type": "code",
      "metadata": {
        "id": "KOjedfpAh8v9",
        "colab_type": "code",
        "colab": {
          "base_uri": "https://localhost:8080/",
          "height": 34
        },
        "outputId": "130c79e6-ed90-42ad-f7aa-849efc4fe6c7"
      },
      "source": [
        "ls"
      ],
      "execution_count": 8,
      "outputs": [
        {
          "output_type": "stream",
          "text": [
            "mutated_matrix_headless.csv  \u001b[0m\u001b[01;34msample_data\u001b[0m/\n"
          ],
          "name": "stdout"
        }
      ]
    },
    {
      "cell_type": "code",
      "metadata": {
        "id": "JLvL3gS5hcta",
        "colab_type": "code",
        "colab": {}
      },
      "source": [
        "headless = pd.read_csv ('/content/mutated_matrix_headless.csv')\n",
        "# df = pd.read_csv ('/content/flights.csv')"
      ],
      "execution_count": 0,
      "outputs": []
    },
    {
      "cell_type": "code",
      "metadata": {
        "id": "6QJ0cRgGjZuN",
        "colab_type": "code",
        "colab": {
          "base_uri": "https://localhost:8080/",
          "height": 224
        },
        "outputId": "87ea206b-6e40-46a5-b658-195ec7ff55dc"
      },
      "source": [
        "headless.head(5)"
      ],
      "execution_count": 12,
      "outputs": [
        {
          "output_type": "execute_result",
          "data": {
            "text/html": [
              "<div>\n",
              "<style scoped>\n",
              "    .dataframe tbody tr th:only-of-type {\n",
              "        vertical-align: middle;\n",
              "    }\n",
              "\n",
              "    .dataframe tbody tr th {\n",
              "        vertical-align: top;\n",
              "    }\n",
              "\n",
              "    .dataframe thead th {\n",
              "        text-align: right;\n",
              "    }\n",
              "</style>\n",
              "<table border=\"1\" class=\"dataframe\">\n",
              "  <thead>\n",
              "    <tr style=\"text-align: right;\">\n",
              "      <th></th>\n",
              "      <th>0</th>\n",
              "      <th>0.1</th>\n",
              "      <th>0.2</th>\n",
              "      <th>0.3</th>\n",
              "      <th>5</th>\n",
              "      <th>34</th>\n",
              "      <th>113</th>\n",
              "      <th>60</th>\n",
              "      <th>0.4</th>\n",
              "      <th>84</th>\n",
              "      <th>153</th>\n",
              "      <th>135</th>\n",
              "      <th>150</th>\n",
              "      <th>109</th>\n",
              "      <th>108</th>\n",
              "      <th>240</th>\n",
              "      <th>239</th>\n",
              "      <th>310</th>\n",
              "      <th>276</th>\n",
              "      <th>205</th>\n",
              "      <th>299</th>\n",
              "      <th>217</th>\n",
              "      <th>383</th>\n",
              "      <th>237</th>\n",
              "      <th>195</th>\n",
              "      <th>168</th>\n",
              "      <th>336</th>\n",
              "      <th>243</th>\n",
              "      <th>0.5</th>\n",
              "      <th>0.6</th>\n",
              "      <th>0.7</th>\n",
              "      <th>19</th>\n",
              "      <th>53</th>\n",
              "      <th>79</th>\n",
              "      <th>85</th>\n",
              "      <th>105</th>\n",
              "      <th>133</th>\n",
              "      <th>150.1</th>\n",
              "      <th>151</th>\n",
              "      <th>75</th>\n",
              "      <th>86</th>\n",
              "    </tr>\n",
              "  </thead>\n",
              "  <tbody>\n",
              "    <tr>\n",
              "      <th>0</th>\n",
              "      <td>0</td>\n",
              "      <td>0</td>\n",
              "      <td>0</td>\n",
              "      <td>0</td>\n",
              "      <td>0</td>\n",
              "      <td>30</td>\n",
              "      <td>134</td>\n",
              "      <td>75</td>\n",
              "      <td>188</td>\n",
              "      <td>7</td>\n",
              "      <td>91</td>\n",
              "      <td>78</td>\n",
              "      <td>184</td>\n",
              "      <td>93</td>\n",
              "      <td>109</td>\n",
              "      <td>287</td>\n",
              "      <td>199</td>\n",
              "      <td>224</td>\n",
              "      <td>302</td>\n",
              "      <td>284</td>\n",
              "      <td>300</td>\n",
              "      <td>379</td>\n",
              "      <td>317</td>\n",
              "      <td>56</td>\n",
              "      <td>262</td>\n",
              "      <td>372</td>\n",
              "      <td>325</td>\n",
              "      <td>0</td>\n",
              "      <td>0</td>\n",
              "      <td>18</td>\n",
              "      <td>16</td>\n",
              "      <td>31</td>\n",
              "      <td>73</td>\n",
              "      <td>79</td>\n",
              "      <td>113</td>\n",
              "      <td>154</td>\n",
              "      <td>196</td>\n",
              "      <td>239</td>\n",
              "      <td>322</td>\n",
              "      <td>183</td>\n",
              "      <td>88</td>\n",
              "    </tr>\n",
              "    <tr>\n",
              "      <th>1</th>\n",
              "      <td>0</td>\n",
              "      <td>24</td>\n",
              "      <td>14</td>\n",
              "      <td>0</td>\n",
              "      <td>13</td>\n",
              "      <td>67</td>\n",
              "      <td>187</td>\n",
              "      <td>49</td>\n",
              "      <td>71</td>\n",
              "      <td>69</td>\n",
              "      <td>127</td>\n",
              "      <td>82</td>\n",
              "      <td>76</td>\n",
              "      <td>48</td>\n",
              "      <td>378</td>\n",
              "      <td>281</td>\n",
              "      <td>233</td>\n",
              "      <td>185</td>\n",
              "      <td>282</td>\n",
              "      <td>331</td>\n",
              "      <td>231</td>\n",
              "      <td>200</td>\n",
              "      <td>1210</td>\n",
              "      <td>244</td>\n",
              "      <td>343</td>\n",
              "      <td>202</td>\n",
              "      <td>196</td>\n",
              "      <td>0</td>\n",
              "      <td>84</td>\n",
              "      <td>102</td>\n",
              "      <td>81</td>\n",
              "      <td>73</td>\n",
              "      <td>88</td>\n",
              "      <td>126</td>\n",
              "      <td>150</td>\n",
              "      <td>170</td>\n",
              "      <td>250</td>\n",
              "      <td>515</td>\n",
              "      <td>218</td>\n",
              "      <td>182</td>\n",
              "      <td>114</td>\n",
              "    </tr>\n",
              "    <tr>\n",
              "      <th>2</th>\n",
              "      <td>12</td>\n",
              "      <td>23</td>\n",
              "      <td>44</td>\n",
              "      <td>0</td>\n",
              "      <td>40</td>\n",
              "      <td>57</td>\n",
              "      <td>97</td>\n",
              "      <td>89</td>\n",
              "      <td>59</td>\n",
              "      <td>142</td>\n",
              "      <td>315</td>\n",
              "      <td>0</td>\n",
              "      <td>0</td>\n",
              "      <td>118</td>\n",
              "      <td>320</td>\n",
              "      <td>172</td>\n",
              "      <td>209</td>\n",
              "      <td>156</td>\n",
              "      <td>255</td>\n",
              "      <td>223</td>\n",
              "      <td>225</td>\n",
              "      <td>199</td>\n",
              "      <td>213</td>\n",
              "      <td>200</td>\n",
              "      <td>327</td>\n",
              "      <td>348</td>\n",
              "      <td>270</td>\n",
              "      <td>122</td>\n",
              "      <td>108</td>\n",
              "      <td>167</td>\n",
              "      <td>154</td>\n",
              "      <td>153</td>\n",
              "      <td>286</td>\n",
              "      <td>248</td>\n",
              "      <td>207</td>\n",
              "      <td>206</td>\n",
              "      <td>193</td>\n",
              "      <td>185</td>\n",
              "      <td>165</td>\n",
              "      <td>151</td>\n",
              "      <td>93</td>\n",
              "    </tr>\n",
              "    <tr>\n",
              "      <th>3</th>\n",
              "      <td>0</td>\n",
              "      <td>10</td>\n",
              "      <td>0</td>\n",
              "      <td>24</td>\n",
              "      <td>28</td>\n",
              "      <td>84</td>\n",
              "      <td>150</td>\n",
              "      <td>83</td>\n",
              "      <td>128</td>\n",
              "      <td>233</td>\n",
              "      <td>126</td>\n",
              "      <td>0</td>\n",
              "      <td>99</td>\n",
              "      <td>350</td>\n",
              "      <td>220</td>\n",
              "      <td>264</td>\n",
              "      <td>208</td>\n",
              "      <td>178</td>\n",
              "      <td>241</td>\n",
              "      <td>240</td>\n",
              "      <td>280</td>\n",
              "      <td>325</td>\n",
              "      <td>362</td>\n",
              "      <td>923</td>\n",
              "      <td>218</td>\n",
              "      <td>741</td>\n",
              "      <td>116</td>\n",
              "      <td>135</td>\n",
              "      <td>286</td>\n",
              "      <td>247</td>\n",
              "      <td>207</td>\n",
              "      <td>162</td>\n",
              "      <td>352</td>\n",
              "      <td>221</td>\n",
              "      <td>235</td>\n",
              "      <td>214</td>\n",
              "      <td>186</td>\n",
              "      <td>165</td>\n",
              "      <td>132</td>\n",
              "      <td>132</td>\n",
              "      <td>116</td>\n",
              "    </tr>\n",
              "    <tr>\n",
              "      <th>4</th>\n",
              "      <td>20</td>\n",
              "      <td>0</td>\n",
              "      <td>16</td>\n",
              "      <td>24</td>\n",
              "      <td>59</td>\n",
              "      <td>248</td>\n",
              "      <td>0</td>\n",
              "      <td>138</td>\n",
              "      <td>138</td>\n",
              "      <td>124</td>\n",
              "      <td>167</td>\n",
              "      <td>0</td>\n",
              "      <td>0</td>\n",
              "      <td>320</td>\n",
              "      <td>291</td>\n",
              "      <td>183</td>\n",
              "      <td>220</td>\n",
              "      <td>161</td>\n",
              "      <td>242</td>\n",
              "      <td>264</td>\n",
              "      <td>263</td>\n",
              "      <td>259</td>\n",
              "      <td>42</td>\n",
              "      <td>188</td>\n",
              "      <td>299</td>\n",
              "      <td>364</td>\n",
              "      <td>211</td>\n",
              "      <td>333</td>\n",
              "      <td>412</td>\n",
              "      <td>313</td>\n",
              "      <td>161</td>\n",
              "      <td>153</td>\n",
              "      <td>178</td>\n",
              "      <td>224</td>\n",
              "      <td>238</td>\n",
              "      <td>209</td>\n",
              "      <td>167</td>\n",
              "      <td>112</td>\n",
              "      <td>116</td>\n",
              "      <td>112</td>\n",
              "      <td>112</td>\n",
              "    </tr>\n",
              "  </tbody>\n",
              "</table>\n",
              "</div>"
            ],
            "text/plain": [
              "    0  0.1  0.2  0.3   5   34  113  ...   85  105  133  150.1  151   75   86\n",
              "0   0    0    0    0   0   30  134  ...  113  154  196    239  322  183   88\n",
              "1   0   24   14    0  13   67  187  ...  150  170  250    515  218  182  114\n",
              "2  12   23   44    0  40   57   97  ...  207  206  193    185  165  151   93\n",
              "3   0   10    0   24  28   84  150  ...  235  214  186    165  132  132  116\n",
              "4  20    0   16   24  59  248    0  ...  238  209  167    112  116  112  112\n",
              "\n",
              "[5 rows x 41 columns]"
            ]
          },
          "metadata": {
            "tags": []
          },
          "execution_count": 12
        }
      ]
    },
    {
      "cell_type": "code",
      "metadata": {
        "id": "WTs3CqxQkSfR",
        "colab_type": "code",
        "colab": {}
      },
      "source": [
        ""
      ],
      "execution_count": 0,
      "outputs": []
    },
    {
      "cell_type": "code",
      "metadata": {
        "colab_type": "code",
        "id": "Ltw9Ofz3kTRa",
        "colab": {}
      },
      "source": [
        "Export = headless.to_json ('/content/headless.json')"
      ],
      "execution_count": 0,
      "outputs": []
    },
    {
      "cell_type": "code",
      "metadata": {
        "id": "yjL_nt1Cjs1A",
        "colab_type": "code",
        "colab": {
          "base_uri": "https://localhost:8080/",
          "height": 296
        },
        "outputId": "a91a365b-2c1b-4cd5-a7c0-781f8a1cbe65"
      },
      "source": [
        "sns.heatmap(headless,cmap=\"OrRd\")"
      ],
      "execution_count": 13,
      "outputs": [
        {
          "output_type": "execute_result",
          "data": {
            "text/plain": [
              "<matplotlib.axes._subplots.AxesSubplot at 0x7f5199f19ef0>"
            ]
          },
          "metadata": {
            "tags": []
          },
          "execution_count": 13
        },
        {
          "output_type": "display_data",
          "data": {
            "image/png": "[encoded data removed]",
            "text/plain": [
              "<Figure size 432x288 with 2 Axes>"
            ]
          },
          "metadata": {
            "tags": []
          }
        }
      ]
    },
    {
      "cell_type": "code",
      "metadata": {
        "colab_type": "code",
        "outputId": "a179efaa-988b-4ab4-8ef4-4dcb60611d96",
        "id": "p2Kh9dgIVlsB",
        "colab": {
          "base_uri": "https://localhost:8080/",
          "height": 204
        }
      },
      "source": [
        "norway_mag.head(5)"
      ],
      "execution_count": 0,
      "outputs": [
        {
          "output_type": "execute_result",
          "data": {
            "text/html": [
              "<div>\n",
              "<style scoped>\n",
              "    .dataframe tbody tr th:only-of-type {\n",
              "        vertical-align: middle;\n",
              "    }\n",
              "\n",
              "    .dataframe tbody tr th {\n",
              "        vertical-align: top;\n",
              "    }\n",
              "\n",
              "    .dataframe thead th {\n",
              "        text-align: right;\n",
              "    }\n",
              "</style>\n",
              "<table border=\"1\" class=\"dataframe\">\n",
              "  <thead>\n",
              "    <tr style=\"text-align: right;\">\n",
              "      <th></th>\n",
              "      <th>Latitude</th>\n",
              "      <th>Longitude</th>\n",
              "      <th>Mag_Field</th>\n",
              "    </tr>\n",
              "  </thead>\n",
              "  <tbody>\n",
              "    <tr>\n",
              "      <th>0</th>\n",
              "      <td>64.665813</td>\n",
              "      <td>13.149861</td>\n",
              "      <td>51990.5</td>\n",
              "    </tr>\n",
              "    <tr>\n",
              "      <th>1</th>\n",
              "      <td>64.666035</td>\n",
              "      <td>13.149779</td>\n",
              "      <td>51999.6</td>\n",
              "    </tr>\n",
              "    <tr>\n",
              "      <th>2</th>\n",
              "      <td>64.666260</td>\n",
              "      <td>13.149758</td>\n",
              "      <td>51990.9</td>\n",
              "    </tr>\n",
              "    <tr>\n",
              "      <th>3</th>\n",
              "      <td>64.666465</td>\n",
              "      <td>13.149815</td>\n",
              "      <td>51988.1</td>\n",
              "    </tr>\n",
              "    <tr>\n",
              "      <th>4</th>\n",
              "      <td>64.666723</td>\n",
              "      <td>13.149768</td>\n",
              "      <td>52004.7</td>\n",
              "    </tr>\n",
              "  </tbody>\n",
              "</table>\n",
              "</div>"
            ],
            "text/plain": [
              "    Latitude  Longitude  Mag_Field\n",
              "0  64.665813  13.149861    51990.5\n",
              "1  64.666035  13.149779    51999.6\n",
              "2  64.666260  13.149758    51990.9\n",
              "3  64.666465  13.149815    51988.1\n",
              "4  64.666723  13.149768    52004.7"
            ]
          },
          "metadata": {
            "tags": []
          },
          "execution_count": 13
        }
      ]
    },
    {
      "cell_type": "code",
      "metadata": {
        "id": "hdgesTfJ_ya8",
        "colab_type": "code",
        "colab": {}
      },
      "source": [
        "Export = norway_mag.to_json ('/content/norway_mag.json')"
      ],
      "execution_count": 0,
      "outputs": []
    },
    {
      "cell_type": "code",
      "metadata": {
        "id": "cfEL21iOCIO8",
        "colab_type": "code",
        "outputId": "bdb837a0-cd1f-4510-a9ff-80b9075d3747",
        "colab": {
          "base_uri": "https://localhost:8080/",
          "height": 204
        }
      },
      "source": [
        "df.head(5)"
      ],
      "execution_count": 0,
      "outputs": [
        {
          "output_type": "execute_result",
          "data": {
            "text/html": [
              "<div>\n",
              "<style scoped>\n",
              "    .dataframe tbody tr th:only-of-type {\n",
              "        vertical-align: middle;\n",
              "    }\n",
              "\n",
              "    .dataframe tbody tr th {\n",
              "        vertical-align: top;\n",
              "    }\n",
              "\n",
              "    .dataframe thead th {\n",
              "        text-align: right;\n",
              "    }\n",
              "</style>\n",
              "<table border=\"1\" class=\"dataframe\">\n",
              "  <thead>\n",
              "    <tr style=\"text-align: right;\">\n",
              "      <th></th>\n",
              "      <th>Northings</th>\n",
              "      <th>Eastings</th>\n",
              "      <th>Au-gpt</th>\n",
              "    </tr>\n",
              "  </thead>\n",
              "  <tbody>\n",
              "    <tr>\n",
              "      <th>0</th>\n",
              "      <td>7725</td>\n",
              "      <td>12065</td>\n",
              "      <td>0.011</td>\n",
              "    </tr>\n",
              "    <tr>\n",
              "      <th>1</th>\n",
              "      <td>7775</td>\n",
              "      <td>12065</td>\n",
              "      <td>0.010</td>\n",
              "    </tr>\n",
              "    <tr>\n",
              "      <th>2</th>\n",
              "      <td>7825</td>\n",
              "      <td>12065</td>\n",
              "      <td>0.018</td>\n",
              "    </tr>\n",
              "    <tr>\n",
              "      <th>3</th>\n",
              "      <td>7875</td>\n",
              "      <td>12065</td>\n",
              "      <td>0.014</td>\n",
              "    </tr>\n",
              "    <tr>\n",
              "      <th>4</th>\n",
              "      <td>7925</td>\n",
              "      <td>12065</td>\n",
              "      <td>0.010</td>\n",
              "    </tr>\n",
              "  </tbody>\n",
              "</table>\n",
              "</div>"
            ],
            "text/plain": [
              "   Northings  Eastings  Au-gpt\n",
              "0       7725     12065   0.011\n",
              "1       7775     12065   0.010\n",
              "2       7825     12065   0.018\n",
              "3       7875     12065   0.014\n",
              "4       7925     12065   0.010"
            ]
          },
          "metadata": {
            "tags": []
          },
          "execution_count": 6
        }
      ]
    },
    {
      "cell_type": "code",
      "metadata": {
        "id": "z7D8V12ufkdF",
        "colab_type": "code",
        "colab": {}
      },
      "source": [
        "df.head(5)"
      ],
      "execution_count": 0,
      "outputs": []
    },
    {
      "cell_type": "markdown",
      "metadata": {
        "id": "NivdsX4Zn2vy",
        "colab_type": "text"
      },
      "source": [
        "Avocado input\n",
        "\n",
        "/content/avocado.csv"
      ]
    },
    {
      "cell_type": "code",
      "metadata": {
        "id": "9cfFzN5Bo7hO",
        "colab_type": "code",
        "outputId": "56285a8c-1aeb-4f86-9058-3ca638f37ab2",
        "colab": {
          "base_uri": "https://localhost:8080/",
          "height": 34
        }
      },
      "source": [
        "ls"
      ],
      "execution_count": 0,
      "outputs": [
        {
          "output_type": "stream",
          "text": [
            "\u001b[0m\u001b[01;34msample_data\u001b[0m/\n"
          ],
          "name": "stdout"
        }
      ]
    },
    {
      "cell_type": "markdown",
      "metadata": {
        "id": "i-8RkzGRokos",
        "colab_type": "text"
      },
      "source": [
        "and now flights"
      ]
    },
    {
      "cell_type": "code",
      "metadata": {
        "id": "veEnXUvoooFo",
        "colab_type": "code",
        "colab": {}
      },
      "source": [
        "flights = pd.read_csv ('https://raw.githubusercontent.com/zaknbur/data/master/flights.csv')"
      ],
      "execution_count": 0,
      "outputs": []
    },
    {
      "cell_type": "code",
      "metadata": {
        "id": "o4N2yFSto9Q4",
        "colab_type": "code",
        "outputId": "24cc908e-1c38-4121-9cbf-625cd6656657",
        "colab": {
          "base_uri": "https://localhost:8080/",
          "height": 204
        }
      },
      "source": [
        "flights.head(5)"
      ],
      "execution_count": 0,
      "outputs": [
        {
          "output_type": "execute_result",
          "data": {
            "text/html": [
              "<div>\n",
              "<style scoped>\n",
              "    .dataframe tbody tr th:only-of-type {\n",
              "        vertical-align: middle;\n",
              "    }\n",
              "\n",
              "    .dataframe tbody tr th {\n",
              "        vertical-align: top;\n",
              "    }\n",
              "\n",
              "    .dataframe thead th {\n",
              "        text-align: right;\n",
              "    }\n",
              "</style>\n",
              "<table border=\"1\" class=\"dataframe\">\n",
              "  <thead>\n",
              "    <tr style=\"text-align: right;\">\n",
              "      <th></th>\n",
              "      <th>year</th>\n",
              "      <th>month</th>\n",
              "      <th>passengers</th>\n",
              "    </tr>\n",
              "  </thead>\n",
              "  <tbody>\n",
              "    <tr>\n",
              "      <th>0</th>\n",
              "      <td>1949</td>\n",
              "      <td>January</td>\n",
              "      <td>112</td>\n",
              "    </tr>\n",
              "    <tr>\n",
              "      <th>1</th>\n",
              "      <td>1949</td>\n",
              "      <td>February</td>\n",
              "      <td>118</td>\n",
              "    </tr>\n",
              "    <tr>\n",
              "      <th>2</th>\n",
              "      <td>1949</td>\n",
              "      <td>March</td>\n",
              "      <td>132</td>\n",
              "    </tr>\n",
              "    <tr>\n",
              "      <th>3</th>\n",
              "      <td>1949</td>\n",
              "      <td>April</td>\n",
              "      <td>129</td>\n",
              "    </tr>\n",
              "    <tr>\n",
              "      <th>4</th>\n",
              "      <td>1949</td>\n",
              "      <td>May</td>\n",
              "      <td>121</td>\n",
              "    </tr>\n",
              "  </tbody>\n",
              "</table>\n",
              "</div>"
            ],
            "text/plain": [
              "   year     month  passengers\n",
              "0  1949   January         112\n",
              "1  1949  February         118\n",
              "2  1949     March         132\n",
              "3  1949     April         129\n",
              "4  1949       May         121"
            ]
          },
          "metadata": {
            "tags": []
          },
          "execution_count": 26
        }
      ]
    },
    {
      "cell_type": "code",
      "metadata": {
        "id": "Yvh3HgWlhg1j",
        "colab_type": "code",
        "colab": {}
      },
      "source": [
        "Norway_Mag = pd.read_csv ('https://raw.githubusercontent.com/zaknbur/data/master/norway-mag-survey.csv')"
      ],
      "execution_count": 0,
      "outputs": []
    },
    {
      "cell_type": "code",
      "metadata": {
        "id": "Ljo6qc3hiA2P",
        "colab_type": "code",
        "outputId": "649b3168-3ce9-4475-aeb7-d7f3cfdb40b5",
        "colab": {
          "base_uri": "https://localhost:8080/",
          "height": 204
        }
      },
      "source": [
        "Norway_Mag.head(5)"
      ],
      "execution_count": 0,
      "outputs": [
        {
          "output_type": "execute_result",
          "data": {
            "text/html": [
              "<div>\n",
              "<style scoped>\n",
              "    .dataframe tbody tr th:only-of-type {\n",
              "        vertical-align: middle;\n",
              "    }\n",
              "\n",
              "    .dataframe tbody tr th {\n",
              "        vertical-align: top;\n",
              "    }\n",
              "\n",
              "    .dataframe thead th {\n",
              "        text-align: right;\n",
              "    }\n",
              "</style>\n",
              "<table border=\"1\" class=\"dataframe\">\n",
              "  <thead>\n",
              "    <tr style=\"text-align: right;\">\n",
              "      <th></th>\n",
              "      <th>Latitude</th>\n",
              "      <th>Longitude</th>\n",
              "      <th>Mag_Field</th>\n",
              "    </tr>\n",
              "  </thead>\n",
              "  <tbody>\n",
              "    <tr>\n",
              "      <th>0</th>\n",
              "      <td>64.665813</td>\n",
              "      <td>13.149861</td>\n",
              "      <td>51990.5</td>\n",
              "    </tr>\n",
              "    <tr>\n",
              "      <th>1</th>\n",
              "      <td>64.666035</td>\n",
              "      <td>13.149779</td>\n",
              "      <td>51999.6</td>\n",
              "    </tr>\n",
              "    <tr>\n",
              "      <th>2</th>\n",
              "      <td>64.666260</td>\n",
              "      <td>13.149758</td>\n",
              "      <td>51990.9</td>\n",
              "    </tr>\n",
              "    <tr>\n",
              "      <th>3</th>\n",
              "      <td>64.666465</td>\n",
              "      <td>13.149815</td>\n",
              "      <td>51988.1</td>\n",
              "    </tr>\n",
              "    <tr>\n",
              "      <th>4</th>\n",
              "      <td>64.666723</td>\n",
              "      <td>13.149768</td>\n",
              "      <td>52004.7</td>\n",
              "    </tr>\n",
              "  </tbody>\n",
              "</table>\n",
              "</div>"
            ],
            "text/plain": [
              "    Latitude  Longitude  Mag_Field\n",
              "0  64.665813  13.149861    51990.5\n",
              "1  64.666035  13.149779    51999.6\n",
              "2  64.666260  13.149758    51990.9\n",
              "3  64.666465  13.149815    51988.1\n",
              "4  64.666723  13.149768    52004.7"
            ]
          },
          "metadata": {
            "tags": []
          },
          "execution_count": 24
        }
      ]
    },
    {
      "cell_type": "markdown",
      "metadata": {
        "id": "5OaO9-QmT5zi",
        "colab_type": "text"
      },
      "source": [
        "Now try pivoting\n",
        "\n",
        "flight_matrix = flights_raw.pivot(\"month\", \"year\", \"passengers\")\n",
        "flight_matrix\n",
        "\n",
        "Norway_matrix = Norway_Mag.pivot(\"Latitude\", \"Longitude\", \"Mag_Field\")\n",
        "Norway_matrix\n"
      ]
    },
    {
      "cell_type": "markdown",
      "metadata": {
        "id": "3WLfjlEAYeEW",
        "colab_type": "text"
      },
      "source": [
        ""
      ]
    },
    {
      "cell_type": "code",
      "metadata": {
        "id": "sLKOSTjSZV1g",
        "colab_type": "code",
        "colab": {}
      },
      "source": [
        "Norway_Mag = Norway_Mag.pivot('Latitude','Longitude','Mag_Field')"
      ],
      "execution_count": 0,
      "outputs": []
    },
    {
      "cell_type": "code",
      "metadata": {
        "id": "E8eHe6gtnhWs",
        "colab_type": "code",
        "outputId": "d28fc234-49ac-43a8-f9db-c691a564e9f9",
        "colab": {
          "base_uri": "https://localhost:8080/",
          "height": 301
        }
      },
      "source": [
        "sns.heatmap(zim_gold,cmap=\"OrRd\")"
      ],
      "execution_count": 4,
      "outputs": [
        {
          "output_type": "execute_result",
          "data": {
            "text/plain": [
              "<matplotlib.axes._subplots.AxesSubplot at 0x7f519e373fd0>"
            ]
          },
          "metadata": {
            "tags": []
          },
          "execution_count": 4
        },
        {
          "output_type": "display_data",
          "data": {
            "image/png": "[encoded data removed]",
            "text/plain": [
              "<Figure size 432x288 with 2 Axes>"
            ]
          },
          "metadata": {
            "tags": []
          }
        }
      ]
    },
    {
      "cell_type": "code",
      "metadata": {
        "id": "V7LSt6FIpstE",
        "colab_type": "code",
        "outputId": "b341ed30-a31e-4859-c477-69ba87c36e8d",
        "colab": {
          "base_uri": "https://localhost:8080/",
          "height": 333
        }
      },
      "source": [
        "sns.set_style('whitegrid')\n",
        "plt.figure(figsize=(10,8))\n",
        "sns.kdeplot(Norway_Mag.Latitude,Norway_Mag.Longitude)"
      ],
      "execution_count": 0,
      "outputs": [
        {
          "output_type": "error",
          "ename": "AttributeError",
          "evalue": "ignored",
          "traceback": [
            "\u001b[0;31m---------------------------------------------------------------------------\u001b[0m",
            "\u001b[0;31mAttributeError\u001b[0m                            Traceback (most recent call last)",
            "\u001b[0;32m<ipython-input-53-71e1fbcb369b>\u001b[0m in \u001b[0;36m<module>\u001b[0;34m()\u001b[0m\n\u001b[1;32m      1\u001b[0m \u001b[0msns\u001b[0m\u001b[0;34m.\u001b[0m\u001b[0mset_style\u001b[0m\u001b[0;34m(\u001b[0m\u001b[0;34m'whitegrid'\u001b[0m\u001b[0;34m)\u001b[0m\u001b[0;34m\u001b[0m\u001b[0;34m\u001b[0m\u001b[0m\n\u001b[1;32m      2\u001b[0m \u001b[0mplt\u001b[0m\u001b[0;34m.\u001b[0m\u001b[0mfigure\u001b[0m\u001b[0;34m(\u001b[0m\u001b[0mfigsize\u001b[0m\u001b[0;34m=\u001b[0m\u001b[0;34m(\u001b[0m\u001b[0;36m10\u001b[0m\u001b[0;34m,\u001b[0m\u001b[0;36m8\u001b[0m\u001b[0;34m)\u001b[0m\u001b[0;34m)\u001b[0m\u001b[0;34m\u001b[0m\u001b[0;34m\u001b[0m\u001b[0m\n\u001b[0;32m----> 3\u001b[0;31m \u001b[0msns\u001b[0m\u001b[0;34m.\u001b[0m\u001b[0mkdeplot\u001b[0m\u001b[0;34m(\u001b[0m\u001b[0mNorway_Mag\u001b[0m\u001b[0;34m.\u001b[0m\u001b[0mLatitude\u001b[0m\u001b[0;34m,\u001b[0m\u001b[0mNorway_Mag\u001b[0m\u001b[0;34m.\u001b[0m\u001b[0mLongitude\u001b[0m\u001b[0;34m)\u001b[0m\u001b[0;34m\u001b[0m\u001b[0;34m\u001b[0m\u001b[0m\n\u001b[0m",
            "\u001b[0;32m/usr/local/lib/python3.6/dist-packages/pandas/core/generic.py\u001b[0m in \u001b[0;36m__getattr__\u001b[0;34m(self, name)\u001b[0m\n\u001b[1;32m   5065\u001b[0m             \u001b[0;32mif\u001b[0m \u001b[0mself\u001b[0m\u001b[0;34m.\u001b[0m\u001b[0m_info_axis\u001b[0m\u001b[0;34m.\u001b[0m\u001b[0m_can_hold_identifiers_and_holds_name\u001b[0m\u001b[0;34m(\u001b[0m\u001b[0mname\u001b[0m\u001b[0;34m)\u001b[0m\u001b[0;34m:\u001b[0m\u001b[0;34m\u001b[0m\u001b[0;34m\u001b[0m\u001b[0m\n\u001b[1;32m   5066\u001b[0m                 \u001b[0;32mreturn\u001b[0m \u001b[0mself\u001b[0m\u001b[0;34m[\u001b[0m\u001b[0mname\u001b[0m\u001b[0;34m]\u001b[0m\u001b[0;34m\u001b[0m\u001b[0;34m\u001b[0m\u001b[0m\n\u001b[0;32m-> 5067\u001b[0;31m             \u001b[0;32mreturn\u001b[0m \u001b[0mobject\u001b[0m\u001b[0;34m.\u001b[0m\u001b[0m__getattribute__\u001b[0m\u001b[0;34m(\u001b[0m\u001b[0mself\u001b[0m\u001b[0;34m,\u001b[0m \u001b[0mname\u001b[0m\u001b[0;34m)\u001b[0m\u001b[0;34m\u001b[0m\u001b[0;34m\u001b[0m\u001b[0m\n\u001b[0m\u001b[1;32m   5068\u001b[0m \u001b[0;34m\u001b[0m\u001b[0m\n\u001b[1;32m   5069\u001b[0m     \u001b[0;32mdef\u001b[0m \u001b[0m__setattr__\u001b[0m\u001b[0;34m(\u001b[0m\u001b[0mself\u001b[0m\u001b[0;34m,\u001b[0m \u001b[0mname\u001b[0m\u001b[0;34m,\u001b[0m \u001b[0mvalue\u001b[0m\u001b[0;34m)\u001b[0m\u001b[0;34m:\u001b[0m\u001b[0;34m\u001b[0m\u001b[0;34m\u001b[0m\u001b[0m\n",
            "\u001b[0;31mAttributeError\u001b[0m: 'DataFrame' object has no attribute 'Latitude'"
          ]
        },
        {
          "output_type": "display_data",
          "data": {
            "text/plain": [
              "<Figure size 720x576 with 0 Axes>"
            ]
          },
          "metadata": {
            "tags": []
          }
        }
      ]
    },
    {
      "cell_type": "code",
      "metadata": {
        "id": "6RjKFka1d5Ph",
        "colab_type": "code",
        "colab": {}
      },
      "source": [
        "flights = sns.load_dataset(\"flights\")"
      ],
      "execution_count": 0,
      "outputs": []
    },
    {
      "cell_type": "code",
      "metadata": {
        "id": "9LtP0bA-eEb3",
        "colab_type": "code",
        "outputId": "0916049d-8beb-4f62-e85f-b5c90a761c37",
        "colab": {
          "base_uri": "https://localhost:8080/",
          "height": 204
        }
      },
      "source": [
        "flights.head (5)"
      ],
      "execution_count": 0,
      "outputs": [
        {
          "output_type": "execute_result",
          "data": {
            "text/html": [
              "<div>\n",
              "<style scoped>\n",
              "    .dataframe tbody tr th:only-of-type {\n",
              "        vertical-align: middle;\n",
              "    }\n",
              "\n",
              "    .dataframe tbody tr th {\n",
              "        vertical-align: top;\n",
              "    }\n",
              "\n",
              "    .dataframe thead th {\n",
              "        text-align: right;\n",
              "    }\n",
              "</style>\n",
              "<table border=\"1\" class=\"dataframe\">\n",
              "  <thead>\n",
              "    <tr style=\"text-align: right;\">\n",
              "      <th></th>\n",
              "      <th>year</th>\n",
              "      <th>month</th>\n",
              "      <th>passengers</th>\n",
              "    </tr>\n",
              "  </thead>\n",
              "  <tbody>\n",
              "    <tr>\n",
              "      <th>0</th>\n",
              "      <td>1949</td>\n",
              "      <td>January</td>\n",
              "      <td>112</td>\n",
              "    </tr>\n",
              "    <tr>\n",
              "      <th>1</th>\n",
              "      <td>1949</td>\n",
              "      <td>February</td>\n",
              "      <td>118</td>\n",
              "    </tr>\n",
              "    <tr>\n",
              "      <th>2</th>\n",
              "      <td>1949</td>\n",
              "      <td>March</td>\n",
              "      <td>132</td>\n",
              "    </tr>\n",
              "    <tr>\n",
              "      <th>3</th>\n",
              "      <td>1949</td>\n",
              "      <td>April</td>\n",
              "      <td>129</td>\n",
              "    </tr>\n",
              "    <tr>\n",
              "      <th>4</th>\n",
              "      <td>1949</td>\n",
              "      <td>May</td>\n",
              "      <td>121</td>\n",
              "    </tr>\n",
              "  </tbody>\n",
              "</table>\n",
              "</div>"
            ],
            "text/plain": [
              "   year     month  passengers\n",
              "0  1949   January         112\n",
              "1  1949  February         118\n",
              "2  1949     March         132\n",
              "3  1949     April         129\n",
              "4  1949       May         121"
            ]
          },
          "metadata": {
            "tags": []
          },
          "execution_count": 44
        }
      ]
    },
    {
      "cell_type": "markdown",
      "metadata": {
        "id": "S6qsjN7mg5Ji",
        "colab_type": "text"
      },
      "source": [
        ""
      ]
    },
    {
      "cell_type": "markdown",
      "metadata": {
        "id": "KsX62eu-hAOh",
        "colab_type": "text"
      },
      "source": [
        "flight_matrix = flights_raw.pivot(\"month\", \"year\", \"passengers\")\n",
        "\n",
        "flight_matrix\n"
      ]
    },
    {
      "cell_type": "code",
      "metadata": {
        "id": "g7WVUAEilqD7",
        "colab_type": "code",
        "colab": {}
      },
      "source": [
        "flights = flights.pivot('month','year','passengers')"
      ],
      "execution_count": 0,
      "outputs": []
    },
    {
      "cell_type": "code",
      "metadata": {
        "id": "qm-RmXE5mfwC",
        "colab_type": "code",
        "outputId": "92328b1a-1e74-4021-91ba-4420ff575bf2",
        "colab": {
          "base_uri": "https://localhost:8080/",
          "height": 315
        }
      },
      "source": [
        "sns.heatmap(flights,cmap=\"OrRd\")"
      ],
      "execution_count": 0,
      "outputs": [
        {
          "output_type": "execute_result",
          "data": {
            "text/plain": [
              "<matplotlib.axes._subplots.AxesSubplot at 0x7f00749f9ba8>"
            ]
          },
          "metadata": {
            "tags": []
          },
          "execution_count": 46
        },
        {
          "output_type": "display_data",
          "data": {
            "image/png": "[encoded data removed]",
            "text/plain": [
              "<Figure size 432x288 with 2 Axes>"
            ]
          },
          "metadata": {
            "tags": []
          }
        }
      ]
    },
    {
      "cell_type": "code",
      "metadata": {
        "id": "rjQqIdPkj-fY",
        "colab_type": "code",
        "colab": {
          "base_uri": "https://localhost:8080/",
          "height": 798
        },
        "outputId": "152e8786-aff3-4cbf-bb25-119108247482"
      },
      "source": [
        "f, ax = plt.subplots(figsize=(14, 13))\n",
        "sns.heatmap(headless, annot=True, fmt=\"d\", linewidths=.5, ax=ax, cmap=\"Greens\")\n",
        "ax.axes.set_title(\"Heatmap of Count of Flights by Month and Year\", fontsize=24, y=1.01);"
      ],
      "execution_count": 14,
      "outputs": [
        {
          "output_type": "display_data",
          "data": {
            "image/png": "[encoded data removed]",
            "text/plain": [
              "<Figure size 1008x936 with 2 Axes>"
            ]
          },
          "metadata": {
            "tags": []
          }
        }
      ]
    },
    {
      "cell_type": "code",
      "metadata": {
        "id": "3PHq6b7beY6C",
        "colab_type": "code",
        "colab": {}
      },
      "source": [
        "flights = flights_long.pivot(\"month\", \"year\", \"passengers\")"
      ],
      "execution_count": 0,
      "outputs": []
    },
    {
      "cell_type": "code",
      "metadata": {
        "colab_type": "code",
        "outputId": "68b2bb29-f468-4a7a-a806-69c9b4d7f711",
        "id": "MmRZAXVnYfpj",
        "colab": {
          "base_uri": "https://localhost:8080/",
          "height": 794
        }
      },
      "source": [
        "f, ax = plt.subplots(figsize=(14, 13))\n",
        "sns.heatmap(flights, annot=True, fmt=\"d\", linewidths=.5, ax=ax, cmap=\"Greens\")\n",
        "ax.axes.set_title(\"Heatmap of Count of Flights by Month and Year\", fontsize=24, y=1.01);"
      ],
      "execution_count": 0,
      "outputs": [
        {
          "output_type": "display_data",
          "data": {
            "image/png": "[encoded data removed]",
            "text/plain": [
              "<Figure size 1008x936 with 2 Axes>"
            ]
          },
          "metadata": {
            "tags": []
          }
        }
      ]
    },
    {
      "cell_type": "markdown",
      "metadata": {
        "id": "WpekZaB8iKMg",
        "colab_type": "text"
      },
      "source": [
        "Now try some seaborn stuff\n",
        "\n",
        "flights_raw = pd.read_csv('flights.csv')\n",
        "flights_raw[\"month\"] = pd.Categorical(flights_raw[\"month\"], flights_raw.month.unique())\n",
        "flights_raw.head()\n",
        "\n",
        "\n"
      ]
    },
    {
      "cell_type": "code",
      "metadata": {
        "id": "FC6s5yH1aiVy",
        "colab_type": "code",
        "outputId": "c6c3f1d5-fa24-4a3a-9640-292737cf7ad3",
        "colab": {
          "base_uri": "https://localhost:8080/",
          "height": 149
        }
      },
      "source": [
        "flights_raw = pd.read_csv('flights.csv') flights_raw[\"month\"] = pd.Categorical(flights_raw[\"month\"], flights_raw.month.unique()) flights_raw.head()"
      ],
      "execution_count": 0,
      "outputs": [
        {
          "output_type": "error",
          "ename": "SyntaxError",
          "evalue": "ignored",
          "traceback": [
            "\u001b[0;36m  File \u001b[0;32m\"<ipython-input-32-13a04ed6d468>\"\u001b[0;36m, line \u001b[0;32m1\u001b[0m\n\u001b[0;31m    flights_raw = pd.read_csv('flights.csv') flights_raw[\"month\"] = pd.Categorical(flights_raw[\"month\"], flights_raw.month.unique()) flights_raw.head()\u001b[0m\n\u001b[0m                                                       ^\u001b[0m\n\u001b[0;31mSyntaxError\u001b[0m\u001b[0;31m:\u001b[0m invalid syntax\n"
          ]
        }
      ]
    },
    {
      "cell_type": "code",
      "metadata": {
        "colab_type": "code",
        "outputId": "8001ef91-d730-4c5e-d2f4-c9e9b8c66dd5",
        "id": "IX_Npdg9YZ6z",
        "colab": {
          "base_uri": "https://localhost:8080/",
          "height": 180
        }
      },
      "source": [
        "flight_matrix = flights_raw.pivot(\"month\", \"year\", \"passengers\")\n",
        "flight_matrix"
      ],
      "execution_count": 0,
      "outputs": [
        {
          "output_type": "error",
          "ename": "NameError",
          "evalue": "ignored",
          "traceback": [
            "\u001b[0;31m---------------------------------------------------------------------------\u001b[0m",
            "\u001b[0;31mNameError\u001b[0m                                 Traceback (most recent call last)",
            "\u001b[0;32m<ipython-input-29-5ae8125b465b>\u001b[0m in \u001b[0;36m<module>\u001b[0;34m()\u001b[0m\n\u001b[0;32m----> 1\u001b[0;31m \u001b[0mflight_matrix\u001b[0m \u001b[0;34m=\u001b[0m \u001b[0mflights_raw\u001b[0m\u001b[0;34m.\u001b[0m\u001b[0mpivot\u001b[0m\u001b[0;34m(\u001b[0m\u001b[0;34m\"month\"\u001b[0m\u001b[0;34m,\u001b[0m \u001b[0;34m\"year\"\u001b[0m\u001b[0;34m,\u001b[0m \u001b[0;34m\"passengers\"\u001b[0m\u001b[0;34m)\u001b[0m\u001b[0;34m\u001b[0m\u001b[0;34m\u001b[0m\u001b[0m\n\u001b[0m\u001b[1;32m      2\u001b[0m \u001b[0mflight_matrix\u001b[0m\u001b[0;34m\u001b[0m\u001b[0;34m\u001b[0m\u001b[0m\n",
            "\u001b[0;31mNameError\u001b[0m: name 'flights_raw' is not defined"
          ]
        }
      ]
    },
    {
      "cell_type": "code",
      "metadata": {
        "colab_type": "code",
        "outputId": "f84afc52-54d2-4a71-a09d-3fcbbbd91fed",
        "id": "x-6rkJWGiwcZ",
        "colab": {
          "base_uri": "https://localhost:8080/",
          "height": 129
        }
      },
      "source": [
        "Norway_matrix = Norway_Mag.pivot(\"latitude\", \"longitude\", \"Mag_Field¨)\n",
        "Norway_matrix"
      ],
      "execution_count": 0,
      "outputs": [
        {
          "output_type": "error",
          "ename": "SyntaxError",
          "evalue": "ignored",
          "traceback": [
            "\u001b[0;36m  File \u001b[0;32m\"<ipython-input-21-0c921ef864a6>\"\u001b[0;36m, line \u001b[0;32m1\u001b[0m\n\u001b[0;31m    Norway_matrix = Norway_Mag.pivot(\"latitude\", \"longitude\", \"Mag_Field¨)\u001b[0m\n\u001b[0m                                                                          ^\u001b[0m\n\u001b[0;31mSyntaxError\u001b[0m\u001b[0;31m:\u001b[0m EOL while scanning string literal\n"
          ]
        }
      ]
    },
    {
      "cell_type": "code",
      "metadata": {
        "id": "ypV3_O2-iQQZ",
        "colab_type": "code",
        "colab": {}
      },
      "source": [
        ""
      ],
      "execution_count": 0,
      "outputs": []
    },
    {
      "cell_type": "markdown",
      "metadata": {
        "id": "vQ5TfU-miAU3",
        "colab_type": "text"
      },
      "source": [
        ""
      ]
    },
    {
      "cell_type": "code",
      "metadata": {
        "id": "yiIIolET1V-r",
        "colab_type": "code",
        "colab": {}
      },
      "source": [
        "df = pd.read_csv ('/content/flights.csv')"
      ],
      "execution_count": 0,
      "outputs": []
    },
    {
      "cell_type": "code",
      "metadata": {
        "id": "y6OE2Dx_1pcX",
        "colab_type": "code",
        "outputId": "9d22db73-1ee0-43f4-a98a-b36c8acf4519",
        "colab": {
          "base_uri": "https://localhost:8080/",
          "height": 204
        }
      },
      "source": [
        "df.head(5)"
      ],
      "execution_count": 0,
      "outputs": [
        {
          "output_type": "execute_result",
          "data": {
            "text/html": [
              "<div>\n",
              "<style scoped>\n",
              "    .dataframe tbody tr th:only-of-type {\n",
              "        vertical-align: middle;\n",
              "    }\n",
              "\n",
              "    .dataframe tbody tr th {\n",
              "        vertical-align: top;\n",
              "    }\n",
              "\n",
              "    .dataframe thead th {\n",
              "        text-align: right;\n",
              "    }\n",
              "</style>\n",
              "<table border=\"1\" class=\"dataframe\">\n",
              "  <thead>\n",
              "    <tr style=\"text-align: right;\">\n",
              "      <th></th>\n",
              "      <th>year</th>\n",
              "      <th>month</th>\n",
              "      <th>passengers</th>\n",
              "    </tr>\n",
              "  </thead>\n",
              "  <tbody>\n",
              "    <tr>\n",
              "      <th>0</th>\n",
              "      <td>1949</td>\n",
              "      <td>January</td>\n",
              "      <td>112</td>\n",
              "    </tr>\n",
              "    <tr>\n",
              "      <th>1</th>\n",
              "      <td>1949</td>\n",
              "      <td>February</td>\n",
              "      <td>118</td>\n",
              "    </tr>\n",
              "    <tr>\n",
              "      <th>2</th>\n",
              "      <td>1949</td>\n",
              "      <td>March</td>\n",
              "      <td>132</td>\n",
              "    </tr>\n",
              "    <tr>\n",
              "      <th>3</th>\n",
              "      <td>1949</td>\n",
              "      <td>April</td>\n",
              "      <td>129</td>\n",
              "    </tr>\n",
              "    <tr>\n",
              "      <th>4</th>\n",
              "      <td>1949</td>\n",
              "      <td>May</td>\n",
              "      <td>121</td>\n",
              "    </tr>\n",
              "  </tbody>\n",
              "</table>\n",
              "</div>"
            ],
            "text/plain": [
              "   year     month  passengers\n",
              "0  1949   January         112\n",
              "1  1949  February         118\n",
              "2  1949     March         132\n",
              "3  1949     April         129\n",
              "4  1949       May         121"
            ]
          },
          "metadata": {
            "tags": []
          },
          "execution_count": 19
        }
      ]
    },
    {
      "cell_type": "code",
      "metadata": {
        "id": "IxrVv8ho2FQ-",
        "colab_type": "code",
        "outputId": "03f01f90-6345-4e40-c609-53e809210903",
        "colab": {
          "base_uri": "https://localhost:8080/",
          "height": 204
        }
      },
      "source": [
        "flights_raw = pd.read_csv('flights.csv')\n",
        "flights_raw[\"month\"] = pd.Categorical(flights_raw[\"month\"], flights_raw.month.unique())\n",
        "flights_raw.head()"
      ],
      "execution_count": 0,
      "outputs": [
        {
          "output_type": "execute_result",
          "data": {
            "text/html": [
              "<div>\n",
              "<style scoped>\n",
              "    .dataframe tbody tr th:only-of-type {\n",
              "        vertical-align: middle;\n",
              "    }\n",
              "\n",
              "    .dataframe tbody tr th {\n",
              "        vertical-align: top;\n",
              "    }\n",
              "\n",
              "    .dataframe thead th {\n",
              "        text-align: right;\n",
              "    }\n",
              "</style>\n",
              "<table border=\"1\" class=\"dataframe\">\n",
              "  <thead>\n",
              "    <tr style=\"text-align: right;\">\n",
              "      <th></th>\n",
              "      <th>year</th>\n",
              "      <th>month</th>\n",
              "      <th>passengers</th>\n",
              "    </tr>\n",
              "  </thead>\n",
              "  <tbody>\n",
              "    <tr>\n",
              "      <th>0</th>\n",
              "      <td>1949</td>\n",
              "      <td>January</td>\n",
              "      <td>112</td>\n",
              "    </tr>\n",
              "    <tr>\n",
              "      <th>1</th>\n",
              "      <td>1949</td>\n",
              "      <td>February</td>\n",
              "      <td>118</td>\n",
              "    </tr>\n",
              "    <tr>\n",
              "      <th>2</th>\n",
              "      <td>1949</td>\n",
              "      <td>March</td>\n",
              "      <td>132</td>\n",
              "    </tr>\n",
              "    <tr>\n",
              "      <th>3</th>\n",
              "      <td>1949</td>\n",
              "      <td>April</td>\n",
              "      <td>129</td>\n",
              "    </tr>\n",
              "    <tr>\n",
              "      <th>4</th>\n",
              "      <td>1949</td>\n",
              "      <td>May</td>\n",
              "      <td>121</td>\n",
              "    </tr>\n",
              "  </tbody>\n",
              "</table>\n",
              "</div>"
            ],
            "text/plain": [
              "   year     month  passengers\n",
              "0  1949   January         112\n",
              "1  1949  February         118\n",
              "2  1949     March         132\n",
              "3  1949     April         129\n",
              "4  1949       May         121"
            ]
          },
          "metadata": {
            "tags": []
          },
          "execution_count": 20
        }
      ]
    },
    {
      "cell_type": "code",
      "metadata": {
        "id": "ByD5V5fO2Rf_",
        "colab_type": "code",
        "outputId": "c896e99e-253a-4e5b-dd0c-f38933893e58",
        "colab": {
          "base_uri": "https://localhost:8080/",
          "height": 452
        }
      },
      "source": [
        "flight_matrix = flights_raw.pivot(\"month\", \"year\", \"passengers\")\n",
        "flight_matrix"
      ],
      "execution_count": 0,
      "outputs": [
        {
          "output_type": "execute_result",
          "data": {
            "text/html": [
              "<div>\n",
              "<style scoped>\n",
              "    .dataframe tbody tr th:only-of-type {\n",
              "        vertical-align: middle;\n",
              "    }\n",
              "\n",
              "    .dataframe tbody tr th {\n",
              "        vertical-align: top;\n",
              "    }\n",
              "\n",
              "    .dataframe thead th {\n",
              "        text-align: right;\n",
              "    }\n",
              "</style>\n",
              "<table border=\"1\" class=\"dataframe\">\n",
              "  <thead>\n",
              "    <tr style=\"text-align: right;\">\n",
              "      <th>year</th>\n",
              "      <th>1949</th>\n",
              "      <th>1950</th>\n",
              "      <th>1951</th>\n",
              "      <th>1952</th>\n",
              "      <th>1953</th>\n",
              "      <th>1954</th>\n",
              "      <th>1955</th>\n",
              "      <th>1956</th>\n",
              "      <th>1957</th>\n",
              "      <th>1958</th>\n",
              "      <th>1959</th>\n",
              "      <th>1960</th>\n",
              "    </tr>\n",
              "    <tr>\n",
              "      <th>month</th>\n",
              "      <th></th>\n",
              "      <th></th>\n",
              "      <th></th>\n",
              "      <th></th>\n",
              "      <th></th>\n",
              "      <th></th>\n",
              "      <th></th>\n",
              "      <th></th>\n",
              "      <th></th>\n",
              "      <th></th>\n",
              "      <th></th>\n",
              "      <th></th>\n",
              "    </tr>\n",
              "  </thead>\n",
              "  <tbody>\n",
              "    <tr>\n",
              "      <th>January</th>\n",
              "      <td>112</td>\n",
              "      <td>115</td>\n",
              "      <td>145</td>\n",
              "      <td>171</td>\n",
              "      <td>196</td>\n",
              "      <td>204</td>\n",
              "      <td>242</td>\n",
              "      <td>284</td>\n",
              "      <td>315</td>\n",
              "      <td>340</td>\n",
              "      <td>360</td>\n",
              "      <td>417</td>\n",
              "    </tr>\n",
              "    <tr>\n",
              "      <th>February</th>\n",
              "      <td>118</td>\n",
              "      <td>126</td>\n",
              "      <td>150</td>\n",
              "      <td>180</td>\n",
              "      <td>196</td>\n",
              "      <td>188</td>\n",
              "      <td>233</td>\n",
              "      <td>277</td>\n",
              "      <td>301</td>\n",
              "      <td>318</td>\n",
              "      <td>342</td>\n",
              "      <td>391</td>\n",
              "    </tr>\n",
              "    <tr>\n",
              "      <th>March</th>\n",
              "      <td>132</td>\n",
              "      <td>141</td>\n",
              "      <td>178</td>\n",
              "      <td>193</td>\n",
              "      <td>236</td>\n",
              "      <td>235</td>\n",
              "      <td>267</td>\n",
              "      <td>317</td>\n",
              "      <td>356</td>\n",
              "      <td>362</td>\n",
              "      <td>406</td>\n",
              "      <td>419</td>\n",
              "    </tr>\n",
              "    <tr>\n",
              "      <th>April</th>\n",
              "      <td>129</td>\n",
              "      <td>135</td>\n",
              "      <td>163</td>\n",
              "      <td>181</td>\n",
              "      <td>235</td>\n",
              "      <td>227</td>\n",
              "      <td>269</td>\n",
              "      <td>313</td>\n",
              "      <td>348</td>\n",
              "      <td>348</td>\n",
              "      <td>396</td>\n",
              "      <td>461</td>\n",
              "    </tr>\n",
              "    <tr>\n",
              "      <th>May</th>\n",
              "      <td>121</td>\n",
              "      <td>125</td>\n",
              "      <td>172</td>\n",
              "      <td>183</td>\n",
              "      <td>229</td>\n",
              "      <td>234</td>\n",
              "      <td>270</td>\n",
              "      <td>318</td>\n",
              "      <td>355</td>\n",
              "      <td>363</td>\n",
              "      <td>420</td>\n",
              "      <td>472</td>\n",
              "    </tr>\n",
              "    <tr>\n",
              "      <th>June</th>\n",
              "      <td>135</td>\n",
              "      <td>149</td>\n",
              "      <td>178</td>\n",
              "      <td>218</td>\n",
              "      <td>243</td>\n",
              "      <td>264</td>\n",
              "      <td>315</td>\n",
              "      <td>374</td>\n",
              "      <td>422</td>\n",
              "      <td>435</td>\n",
              "      <td>472</td>\n",
              "      <td>535</td>\n",
              "    </tr>\n",
              "    <tr>\n",
              "      <th>July</th>\n",
              "      <td>148</td>\n",
              "      <td>170</td>\n",
              "      <td>199</td>\n",
              "      <td>230</td>\n",
              "      <td>264</td>\n",
              "      <td>302</td>\n",
              "      <td>364</td>\n",
              "      <td>413</td>\n",
              "      <td>465</td>\n",
              "      <td>491</td>\n",
              "      <td>548</td>\n",
              "      <td>622</td>\n",
              "    </tr>\n",
              "    <tr>\n",
              "      <th>August</th>\n",
              "      <td>148</td>\n",
              "      <td>170</td>\n",
              "      <td>199</td>\n",
              "      <td>242</td>\n",
              "      <td>272</td>\n",
              "      <td>293</td>\n",
              "      <td>347</td>\n",
              "      <td>405</td>\n",
              "      <td>467</td>\n",
              "      <td>505</td>\n",
              "      <td>559</td>\n",
              "      <td>606</td>\n",
              "    </tr>\n",
              "    <tr>\n",
              "      <th>September</th>\n",
              "      <td>136</td>\n",
              "      <td>158</td>\n",
              "      <td>184</td>\n",
              "      <td>209</td>\n",
              "      <td>237</td>\n",
              "      <td>259</td>\n",
              "      <td>312</td>\n",
              "      <td>355</td>\n",
              "      <td>404</td>\n",
              "      <td>404</td>\n",
              "      <td>463</td>\n",
              "      <td>508</td>\n",
              "    </tr>\n",
              "    <tr>\n",
              "      <th>October</th>\n",
              "      <td>119</td>\n",
              "      <td>133</td>\n",
              "      <td>162</td>\n",
              "      <td>191</td>\n",
              "      <td>211</td>\n",
              "      <td>229</td>\n",
              "      <td>274</td>\n",
              "      <td>306</td>\n",
              "      <td>347</td>\n",
              "      <td>359</td>\n",
              "      <td>407</td>\n",
              "      <td>461</td>\n",
              "    </tr>\n",
              "    <tr>\n",
              "      <th>November</th>\n",
              "      <td>104</td>\n",
              "      <td>114</td>\n",
              "      <td>146</td>\n",
              "      <td>172</td>\n",
              "      <td>180</td>\n",
              "      <td>203</td>\n",
              "      <td>237</td>\n",
              "      <td>271</td>\n",
              "      <td>305</td>\n",
              "      <td>310</td>\n",
              "      <td>362</td>\n",
              "      <td>390</td>\n",
              "    </tr>\n",
              "    <tr>\n",
              "      <th>December</th>\n",
              "      <td>118</td>\n",
              "      <td>140</td>\n",
              "      <td>166</td>\n",
              "      <td>194</td>\n",
              "      <td>201</td>\n",
              "      <td>229</td>\n",
              "      <td>278</td>\n",
              "      <td>306</td>\n",
              "      <td>336</td>\n",
              "      <td>337</td>\n",
              "      <td>405</td>\n",
              "      <td>432</td>\n",
              "    </tr>\n",
              "  </tbody>\n",
              "</table>\n",
              "</div>"
            ],
            "text/plain": [
              "year       1949  1950  1951  1952  1953  ...  1956  1957  1958  1959  1960\n",
              "month                                    ...                              \n",
              "January     112   115   145   171   196  ...   284   315   340   360   417\n",
              "February    118   126   150   180   196  ...   277   301   318   342   391\n",
              "March       132   141   178   193   236  ...   317   356   362   406   419\n",
              "April       129   135   163   181   235  ...   313   348   348   396   461\n",
              "May         121   125   172   183   229  ...   318   355   363   420   472\n",
              "June        135   149   178   218   243  ...   374   422   435   472   535\n",
              "July        148   170   199   230   264  ...   413   465   491   548   622\n",
              "August      148   170   199   242   272  ...   405   467   505   559   606\n",
              "September   136   158   184   209   237  ...   355   404   404   463   508\n",
              "October     119   133   162   191   211  ...   306   347   359   407   461\n",
              "November    104   114   146   172   180  ...   271   305   310   362   390\n",
              "December    118   140   166   194   201  ...   306   336   337   405   432\n",
              "\n",
              "[12 rows x 12 columns]"
            ]
          },
          "metadata": {
            "tags": []
          },
          "execution_count": 21
        }
      ]
    },
    {
      "cell_type": "markdown",
      "metadata": {
        "colab_type": "text",
        "id": "xi5NN_5b-E_Q"
      },
      "source": [
        "/content/zim-grab-gold-no-z.csv\n",
        "\n",
        "df = pd.read_csv ('/content/zim-grab-gold-no-z.csv') "
      ]
    },
    {
      "cell_type": "markdown",
      "metadata": {
        "colab_type": "text",
        "id": "RmbyZjhe-Dry"
      },
      "source": [
        "/content/zim-grab-gold-no-z.csv\n",
        "\n",
        "df = pd.read_csv ('/content/zim-grab-gold-no-z.csv') "
      ]
    },
    {
      "cell_type": "code",
      "metadata": {
        "id": "hYv3jfurn1xA",
        "colab_type": "code",
        "colab": {}
      },
      "source": [
        "import matplotlib.ticker as ticker\n",
        "import matplotlib.cm as cm\n",
        "import matplotlib as mpl\n",
        "\n",
        "import matplotlib.pyplot as plt\n",
        "%matplotlib inline"
      ],
      "execution_count": 0,
      "outputs": []
    },
    {
      "cell_type": "code",
      "metadata": {
        "id": "vbvXdEZX2mrt",
        "colab_type": "code",
        "outputId": "65f952da-a0d8-4f9f-f5ed-837e0966de8a",
        "colab": {
          "base_uri": "https://localhost:8080/",
          "height": 840
        }
      },
      "source": [
        "fig, ax = plt.subplots(1,1, figsize=(12,12))\n",
        "heatplot = ax.imshow(flight_matrix, cmap='BuPu')\n",
        "ax.set_xticklabels(flight_matrix.columns)\n",
        "ax.set_yticklabels(flight_matrix.index)"
      ],
      "execution_count": 0,
      "outputs": [
        {
          "output_type": "execute_result",
          "data": {
            "text/plain": [
              "[Text(0, 0, 'January'),\n",
              " Text(0, 0, 'February'),\n",
              " Text(0, 0, 'March'),\n",
              " Text(0, 0, 'April'),\n",
              " Text(0, 0, 'May'),\n",
              " Text(0, 0, 'June'),\n",
              " Text(0, 0, 'July'),\n",
              " Text(0, 0, 'August')]"
            ]
          },
          "metadata": {
            "tags": []
          },
          "execution_count": 23
        },
        {
          "output_type": "display_data",
          "data": {
            "image/png": "[encoded data removed]",
            "text/plain": [
              "<Figure size 864x864 with 1 Axes>"
            ]
          },
          "metadata": {
            "tags": []
          }
        }
      ]
    },
    {
      "cell_type": "code",
      "metadata": {
        "id": "6ffAzG4j2qdR",
        "colab_type": "code",
        "outputId": "2db62334-5e5d-414d-e495-81fbac81a394",
        "colab": {
          "base_uri": "https://localhost:8080/",
          "height": 34
        }
      },
      "source": [
        "tick_spacing = 1\n",
        "ax.xaxis.set_major_locator(ticker.MultipleLocator(tick_spacing))\n",
        "ax.yaxis.set_major_locator(ticker.MultipleLocator(tick_spacing))\n",
        "ax.set_title(\"Heatmap of Flight Density from 1949 to 1961\")\n",
        "ax.set_xlabel('Year')\n",
        "ax.set_ylabel('Month')"
      ],
      "execution_count": 0,
      "outputs": [
        {
          "output_type": "execute_result",
          "data": {
            "text/plain": [
              "Text(3.200000000000003, 0.5, 'Month')"
            ]
          },
          "metadata": {
            "tags": []
          },
          "execution_count": 24
        }
      ]
    },
    {
      "cell_type": "code",
      "metadata": {
        "id": "rC0ohMLx3Dgg",
        "colab_type": "code",
        "outputId": "6ce7b6b3-839d-4391-a5d2-2ed13e1e785a",
        "colab": {
          "base_uri": "https://localhost:8080/",
          "height": 747
        }
      },
      "source": [
        "import seaborn as sns\n",
        "fig = plt.figure(figsize=(12,12))\n",
        "r = sns.heatmap(flight_matrix, cmap='BuPu')\n",
        "r.set_title(\"Heatmap of Flight Density from 1949 to 1961\")"
      ],
      "execution_count": 0,
      "outputs": [
        {
          "output_type": "execute_result",
          "data": {
            "text/plain": [
              "Text(0.5, 1.0, 'Heatmap of Flight Density from 1949 to 1961')"
            ]
          },
          "metadata": {
            "tags": []
          },
          "execution_count": 26
        },
        {
          "output_type": "display_data",
          "data": {
            "image/png": "[encoded data removed]",
            "text/plain": [
              "<Figure size 864x864 with 2 Axes>"
            ]
          },
          "metadata": {
            "tags": []
          }
        }
      ]
    },
    {
      "cell_type": "code",
      "metadata": {
        "id": "6nnDl8ci3Rus",
        "colab_type": "code",
        "outputId": "699487df-a813-4984-d7b4-b3f74b79ef75",
        "colab": {
          "base_uri": "https://localhost:8080/",
          "height": 34
        }
      },
      "source": [
        "from plotnine import * \n",
        "\n",
        "fig = plt.figure()"
      ],
      "execution_count": 0,
      "outputs": [
        {
          "output_type": "display_data",
          "data": {
            "text/plain": [
              "<Figure size 432x288 with 0 Axes>"
            ]
          },
          "metadata": {
            "tags": []
          }
        }
      ]
    },
    {
      "cell_type": "code",
      "metadata": {
        "id": "kB8Y5EbT3Vuz",
        "colab_type": "code",
        "outputId": "ff1035f4-3097-4705-9b30-8cbb7ecd4355",
        "colab": {
          "base_uri": "https://localhost:8080/",
          "height": 183
        }
      },
      "source": [
        "ggplot(flight_rows, aes('year', 'month')) + geom_tile(aes(fill='passengers'))\\\n",
        "    + scale_fill_gradientn(colors=['#9ebcda','#8c6bb1','#88419d','#6e016b']) \\\n",
        "    + ggtitle(\"Heatmap of Flight Density from 1949 to 1961\")"
      ],
      "execution_count": 0,
      "outputs": [
        {
          "output_type": "error",
          "ename": "NameError",
          "evalue": "ignored",
          "traceback": [
            "\u001b[0;31m---------------------------------------------------------------------------\u001b[0m",
            "\u001b[0;31mNameError\u001b[0m                                 Traceback (most recent call last)",
            "\u001b[0;32m<ipython-input-28-7657de5da363>\u001b[0m in \u001b[0;36m<module>\u001b[0;34m()\u001b[0m\n\u001b[0;32m----> 1\u001b[0;31m \u001b[0mggplot\u001b[0m\u001b[0;34m(\u001b[0m\u001b[0mflight_rows\u001b[0m\u001b[0;34m,\u001b[0m \u001b[0maes\u001b[0m\u001b[0;34m(\u001b[0m\u001b[0;34m'year'\u001b[0m\u001b[0;34m,\u001b[0m \u001b[0;34m'month'\u001b[0m\u001b[0;34m)\u001b[0m\u001b[0;34m)\u001b[0m \u001b[0;34m+\u001b[0m \u001b[0mgeom_tile\u001b[0m\u001b[0;34m(\u001b[0m\u001b[0maes\u001b[0m\u001b[0;34m(\u001b[0m\u001b[0mfill\u001b[0m\u001b[0;34m=\u001b[0m\u001b[0;34m'passengers'\u001b[0m\u001b[0;34m)\u001b[0m\u001b[0;34m)\u001b[0m    \u001b[0;34m+\u001b[0m \u001b[0mscale_fill_gradientn\u001b[0m\u001b[0;34m(\u001b[0m\u001b[0mcolors\u001b[0m\u001b[0;34m=\u001b[0m\u001b[0;34m[\u001b[0m\u001b[0;34m'#9ebcda'\u001b[0m\u001b[0;34m,\u001b[0m\u001b[0;34m'#8c6bb1'\u001b[0m\u001b[0;34m,\u001b[0m\u001b[0;34m'#88419d'\u001b[0m\u001b[0;34m,\u001b[0m\u001b[0;34m'#6e016b'\u001b[0m\u001b[0;34m]\u001b[0m\u001b[0;34m)\u001b[0m     \u001b[0;34m+\u001b[0m \u001b[0mggtitle\u001b[0m\u001b[0;34m(\u001b[0m\u001b[0;34m\"Heatmap of Flight Density from 1949 to 1961\"\u001b[0m\u001b[0;34m)\u001b[0m\u001b[0;34m\u001b[0m\u001b[0;34m\u001b[0m\u001b[0m\n\u001b[0m",
            "\u001b[0;31mNameError\u001b[0m: name 'flight_rows' is not defined"
          ]
        }
      ]
    },
    {
      "cell_type": "code",
      "metadata": {
        "colab_type": "code",
        "id": "YlMmTueRn3OL",
        "outputId": "81309c59-d688-4c01-f535-a5c69bfac7ed",
        "colab": {
          "base_uri": "https://localhost:8080/",
          "height": 241
        }
      },
      "source": [
        "df.head(5)"
      ],
      "execution_count": 0,
      "outputs": [
        {
          "output_type": "execute_result",
          "data": {
            "text/html": [
              "<div>\n",
              "<style scoped>\n",
              "    .dataframe tbody tr th:only-of-type {\n",
              "        vertical-align: middle;\n",
              "    }\n",
              "\n",
              "    .dataframe tbody tr th {\n",
              "        vertical-align: top;\n",
              "    }\n",
              "\n",
              "    .dataframe thead th {\n",
              "        text-align: right;\n",
              "    }\n",
              "</style>\n",
              "<table border=\"1\" class=\"dataframe\">\n",
              "  <thead>\n",
              "    <tr style=\"text-align: right;\">\n",
              "      <th></th>\n",
              "      <th>Unnamed: 0</th>\n",
              "      <th>Date</th>\n",
              "      <th>AveragePrice</th>\n",
              "      <th>Total Volume</th>\n",
              "      <th>4046</th>\n",
              "      <th>4225</th>\n",
              "      <th>4770</th>\n",
              "      <th>Total Bags</th>\n",
              "      <th>Small Bags</th>\n",
              "      <th>Large Bags</th>\n",
              "      <th>XLarge Bags</th>\n",
              "      <th>type</th>\n",
              "      <th>year</th>\n",
              "      <th>region</th>\n",
              "    </tr>\n",
              "  </thead>\n",
              "  <tbody>\n",
              "    <tr>\n",
              "      <th>0</th>\n",
              "      <td>0</td>\n",
              "      <td>2015/12/27</td>\n",
              "      <td>1.33</td>\n",
              "      <td>64236.62</td>\n",
              "      <td>1036.74</td>\n",
              "      <td>54454.85</td>\n",
              "      <td>48.16</td>\n",
              "      <td>8696.87</td>\n",
              "      <td>8603.62</td>\n",
              "      <td>93.25</td>\n",
              "      <td>0.0</td>\n",
              "      <td>conventional</td>\n",
              "      <td>2015</td>\n",
              "      <td>Albany</td>\n",
              "    </tr>\n",
              "    <tr>\n",
              "      <th>1</th>\n",
              "      <td>1</td>\n",
              "      <td>2015/12/20</td>\n",
              "      <td>1.35</td>\n",
              "      <td>54876.98</td>\n",
              "      <td>674.28</td>\n",
              "      <td>44638.81</td>\n",
              "      <td>58.33</td>\n",
              "      <td>9505.56</td>\n",
              "      <td>9408.07</td>\n",
              "      <td>97.49</td>\n",
              "      <td>0.0</td>\n",
              "      <td>conventional</td>\n",
              "      <td>2015</td>\n",
              "      <td>Albany</td>\n",
              "    </tr>\n",
              "    <tr>\n",
              "      <th>2</th>\n",
              "      <td>2</td>\n",
              "      <td>2015/12/13</td>\n",
              "      <td>0.93</td>\n",
              "      <td>118220.22</td>\n",
              "      <td>794.70</td>\n",
              "      <td>109149.67</td>\n",
              "      <td>130.50</td>\n",
              "      <td>8145.35</td>\n",
              "      <td>8042.21</td>\n",
              "      <td>103.14</td>\n",
              "      <td>0.0</td>\n",
              "      <td>conventional</td>\n",
              "      <td>2015</td>\n",
              "      <td>Albany</td>\n",
              "    </tr>\n",
              "    <tr>\n",
              "      <th>3</th>\n",
              "      <td>3</td>\n",
              "      <td>2015/12/06</td>\n",
              "      <td>1.08</td>\n",
              "      <td>78992.15</td>\n",
              "      <td>1132.00</td>\n",
              "      <td>71976.41</td>\n",
              "      <td>72.58</td>\n",
              "      <td>5811.16</td>\n",
              "      <td>5677.40</td>\n",
              "      <td>133.76</td>\n",
              "      <td>0.0</td>\n",
              "      <td>conventional</td>\n",
              "      <td>2015</td>\n",
              "      <td>Albany</td>\n",
              "    </tr>\n",
              "    <tr>\n",
              "      <th>4</th>\n",
              "      <td>4</td>\n",
              "      <td>2015/11/29</td>\n",
              "      <td>1.28</td>\n",
              "      <td>51039.60</td>\n",
              "      <td>941.48</td>\n",
              "      <td>43838.39</td>\n",
              "      <td>75.78</td>\n",
              "      <td>6183.95</td>\n",
              "      <td>5986.26</td>\n",
              "      <td>197.69</td>\n",
              "      <td>0.0</td>\n",
              "      <td>conventional</td>\n",
              "      <td>2015</td>\n",
              "      <td>Albany</td>\n",
              "    </tr>\n",
              "  </tbody>\n",
              "</table>\n",
              "</div>"
            ],
            "text/plain": [
              "   Unnamed: 0        Date  AveragePrice  ...          type  year  region\n",
              "0           0  2015/12/27          1.33  ...  conventional  2015  Albany\n",
              "1           1  2015/12/20          1.35  ...  conventional  2015  Albany\n",
              "2           2  2015/12/13          0.93  ...  conventional  2015  Albany\n",
              "3           3  2015/12/06          1.08  ...  conventional  2015  Albany\n",
              "4           4  2015/11/29          1.28  ...  conventional  2015  Albany\n",
              "\n",
              "[5 rows x 14 columns]"
            ]
          },
          "metadata": {
            "tags": []
          },
          "execution_count": 12
        }
      ]
    },
    {
      "cell_type": "code",
      "metadata": {
        "id": "gH2k0u3Wn-Nu",
        "colab_type": "code",
        "colab": {}
      },
      "source": [
        "import pandas as pd\n",
        "import numpy as np\n",
        "import matplotlib.pyplot as plt\n",
        "import seaborn as sns"
      ],
      "execution_count": 0,
      "outputs": []
    },
    {
      "cell_type": "code",
      "metadata": {
        "id": "KfMOHD-uoqZy",
        "colab_type": "code",
        "outputId": "ec92e4f8-8319-4c9d-b72b-2c797ad42b7e",
        "colab": {
          "base_uri": "https://localhost:8080/",
          "height": 129
        }
      },
      "source": [
        "plt.figure(figsize=(10,5)\n",
        "sns.heatmap(df.corr())"
      ],
      "execution_count": 0,
      "outputs": [
        {
          "output_type": "error",
          "ename": "SyntaxError",
          "evalue": "ignored",
          "traceback": [
            "\u001b[0;36m  File \u001b[0;32m\"<ipython-input-16-6a589217dc12>\"\u001b[0;36m, line \u001b[0;32m2\u001b[0m\n\u001b[0;31m    sns.heatmap(df.corr())\u001b[0m\n\u001b[0m      ^\u001b[0m\n\u001b[0;31mSyntaxError\u001b[0m\u001b[0;31m:\u001b[0m invalid syntax\n"
          ]
        }
      ]
    },
    {
      "cell_type": "code",
      "metadata": {
        "id": "GScNfVF0pN-G",
        "colab_type": "code",
        "outputId": "10905546-0791-4c0d-8f60-4db136460dd8",
        "colab": {
          "base_uri": "https://localhost:8080/",
          "height": 129
        }
      },
      "source": [
        "plt.figure(figsize=(9,5)\n",
        "sns.heatmap(df.corr(),annot=True)"
      ],
      "execution_count": 0,
      "outputs": [
        {
          "output_type": "error",
          "ename": "SyntaxError",
          "evalue": "ignored",
          "traceback": [
            "\u001b[0;36m  File \u001b[0;32m\"<ipython-input-17-0e9cf606cb11>\"\u001b[0;36m, line \u001b[0;32m2\u001b[0m\n\u001b[0;31m    sns.heatmap(df.corr(),annot=True)\u001b[0m\n\u001b[0m      ^\u001b[0m\n\u001b[0;31mSyntaxError\u001b[0m\u001b[0;31m:\u001b[0m invalid syntax\n"
          ]
        }
      ]
    },
    {
      "cell_type": "markdown",
      "metadata": {
        "colab_type": "text",
        "id": "xNzEBRkzL3B0"
      },
      "source": [
        "## Matplotlib\n",
        "\n",
        "[Matplotlib](http://matplotlib.org/) is the most common charting package, see its [documentation](http://matplotlib.org/api/pyplot_api.html) for details, and its [examples](http://matplotlib.org/gallery.html#statistics) for inspiration."
      ]
    },
    {
      "cell_type": "markdown",
      "metadata": {
        "colab_type": "text",
        "id": "WALI8x49GUpe"
      },
      "source": [
        "### Line Plots"
      ]
    },
    {
      "cell_type": "code",
      "metadata": {
        "colab_type": "code",
        "id": "08RTGn_xE3MP",
        "colab": {}
      },
      "source": [
        "import matplotlib.pyplot as plt\n",
        "\n",
        "x  = [1, 2, 3, 4, 5, 6, 7, 8, 9]\n",
        "y1 = [1, 3, 5, 3, 1, 3, 5, 3, 1]\n",
        "y2 = [2, 4, 6, 4, 2, 4, 6, 4, 2]\n",
        "plt.plot(x, y1, label=\"line L\")\n",
        "plt.plot(x, y2, label=\"line H\")\n",
        "plt.plot()\n",
        "\n",
        "plt.xlabel(\"x axis\")\n",
        "plt.ylabel(\"y axis\")\n",
        "plt.title(\"Line Graph Example\")\n",
        "plt.legend()\n",
        "plt.show()"
      ],
      "execution_count": 0,
      "outputs": []
    },
    {
      "cell_type": "markdown",
      "metadata": {
        "colab_type": "text",
        "id": "sIZLTZ0pdo0Z"
      },
      "source": [
        "### Bar Plots"
      ]
    },
    {
      "cell_type": "code",
      "metadata": {
        "colab_type": "code",
        "id": "bZv4MenQpYOF",
        "colab": {}
      },
      "source": [
        "import matplotlib.pyplot as plt\n",
        "\n",
        "# Look at index 4 and 6, which demonstrate overlapping cases.\n",
        "x1 = [1, 3, 4, 5, 6, 7, 9]\n",
        "y1 = [4, 7, 2, 4, 7, 8, 3]\n",
        "\n",
        "x2 = [2, 4, 6, 8, 10]\n",
        "y2 = [5, 6, 2, 6, 2]\n",
        "\n",
        "# Colors: https://matplotlib.org/api/colors_api.html\n",
        "\n",
        "plt.bar(x1, y1, label=\"Blue Bar\", color='b')\n",
        "plt.bar(x2, y2, label=\"Green Bar\", color='g')\n",
        "plt.plot()\n",
        "\n",
        "plt.xlabel(\"bar number\")\n",
        "plt.ylabel(\"bar height\")\n",
        "plt.title(\"Bar Chart Example\")\n",
        "plt.legend()\n",
        "plt.show()"
      ],
      "execution_count": 0,
      "outputs": []
    },
    {
      "cell_type": "markdown",
      "metadata": {
        "colab_type": "text",
        "id": "YQO2Lw8Xdu7x"
      },
      "source": [
        "### Histograms"
      ]
    },
    {
      "cell_type": "code",
      "metadata": {
        "cellView": "both",
        "colab_type": "code",
        "id": "SZ-DMbnPMbMY",
        "colab": {}
      },
      "source": [
        "import matplotlib.pyplot as plt\n",
        "import numpy as np\n",
        "\n",
        "# Use numpy to generate a bunch of random data in a bell curve around 5.\n",
        "n = 5 + np.random.randn(1000)\n",
        "\n",
        "m = [m for m in range(len(n))]\n",
        "plt.bar(m, n)\n",
        "plt.title(\"Raw Data\")\n",
        "plt.show()\n",
        "\n",
        "plt.hist(n, bins=20)\n",
        "plt.title(\"Histogram\")\n",
        "plt.show()\n",
        "\n",
        "plt.hist(n, cumulative=True, bins=20)\n",
        "plt.title(\"Cumulative Histogram\")\n",
        "plt.show()"
      ],
      "execution_count": 0,
      "outputs": []
    },
    {
      "cell_type": "markdown",
      "metadata": {
        "colab_type": "text",
        "id": "9-CelVUmdz8r"
      },
      "source": [
        "### Scatter Plots"
      ]
    },
    {
      "cell_type": "code",
      "metadata": {
        "colab_type": "code",
        "id": "79C7jc9mv-Ji",
        "colab": {}
      },
      "source": [
        "import matplotlib.pyplot as plt\n",
        "\n",
        "x1 = [2, 3, 4]\n",
        "y1 = [5, 5, 5]\n",
        "\n",
        "x2 = [1, 2, 3, 4, 5]\n",
        "y2 = [2, 3, 2, 3, 4]\n",
        "y3 = [6, 8, 7, 8, 7]\n",
        "\n",
        "# Markers: https://matplotlib.org/api/markers_api.html\n",
        "\n",
        "plt.scatter(x1, y1)\n",
        "plt.scatter(x2, y2, marker='v', color='r')\n",
        "plt.scatter(x2, y3, marker='^', color='m')\n",
        "plt.title('Scatter Plot Example')\n",
        "plt.show()"
      ],
      "execution_count": 0,
      "outputs": []
    },
    {
      "cell_type": "markdown",
      "metadata": {
        "colab_type": "text",
        "id": "nlk-Sk0Nd82p"
      },
      "source": [
        "### Stack Plots"
      ]
    },
    {
      "cell_type": "code",
      "metadata": {
        "colab_type": "code",
        "id": "5sxEM0pJzpgr",
        "colab": {}
      },
      "source": [
        "import matplotlib.pyplot as plt\n",
        "\n",
        "idxes = [ 1,  2,  3,  4,  5,  6,  7,  8,  9]\n",
        "arr1  = [23, 40, 28, 43,  8, 44, 43, 18, 17]\n",
        "arr2  = [17, 30, 22, 14, 17, 17, 29, 22, 30]\n",
        "arr3  = [15, 31, 18, 22, 18, 19, 13, 32, 39]\n",
        "\n",
        "# Adding legend for stack plots is tricky.\n",
        "plt.plot([], [], color='r', label = 'D 1')\n",
        "plt.plot([], [], color='g', label = 'D 2')\n",
        "plt.plot([], [], color='b', label = 'D 3')\n",
        "\n",
        "plt.stackplot(idxes, arr1, arr2, arr3, colors= ['r', 'g', 'b'])\n",
        "plt.title('Stack Plot Example')\n",
        "plt.legend()\n",
        "plt.show()"
      ],
      "execution_count": 0,
      "outputs": []
    },
    {
      "cell_type": "markdown",
      "metadata": {
        "colab_type": "text",
        "id": "C0LOohpqeCjx"
      },
      "source": [
        "### Pie Charts"
      ]
    },
    {
      "cell_type": "code",
      "metadata": {
        "colab_type": "code",
        "id": "ZdEG-d4g4U6v",
        "colab": {}
      },
      "source": [
        "import matplotlib.pyplot as plt\n",
        "\n",
        "labels = 'S1', 'S2', 'S3'\n",
        "sections = [56, 66, 24]\n",
        "colors = ['c', 'g', 'y']\n",
        "\n",
        "plt.pie(sections, labels=labels, colors=colors,\n",
        "        startangle=90,\n",
        "        explode = (0, 0.1, 0),\n",
        "        autopct = '%1.2f%%')\n",
        "\n",
        "plt.axis('equal') # Try commenting this out.\n",
        "plt.title('Pie Chart Example')\n",
        "plt.show()"
      ],
      "execution_count": 0,
      "outputs": []
    },
    {
      "cell_type": "markdown",
      "metadata": {
        "colab_type": "text",
        "id": "sX97x87MTyIf"
      },
      "source": [
        "### fill_between and alpha"
      ]
    },
    {
      "cell_type": "code",
      "metadata": {
        "colab_type": "code",
        "id": "BCUl8mTMT4sN",
        "colab": {}
      },
      "source": [
        "import matplotlib.pyplot as plt\n",
        "import numpy as np\n",
        "\n",
        "ys = 200 + np.random.randn(100)\n",
        "x = [x for x in range(len(ys))]\n",
        "\n",
        "plt.plot(x, ys, '-')\n",
        "plt.fill_between(x, ys, 195, where=(ys > 195), facecolor='g', alpha=0.6)\n",
        "\n",
        "plt.title(\"Fills and Alpha Example\")\n",
        "plt.show()"
      ],
      "execution_count": 0,
      "outputs": []
    },
    {
      "cell_type": "markdown",
      "metadata": {
        "colab_type": "text",
        "id": "jONspxyzeT4Y"
      },
      "source": [
        "### Subplotting using Subplot2grid"
      ]
    },
    {
      "cell_type": "code",
      "metadata": {
        "colab_type": "code",
        "id": "JF-dVGj3ExQm",
        "colab": {}
      },
      "source": [
        "import matplotlib.pyplot as plt\n",
        "import numpy as np\n",
        "\n",
        "def random_plots():\n",
        "  xs = []\n",
        "  ys = []\n",
        "  \n",
        "  for i in range(20):\n",
        "    x = i\n",
        "    y = np.random.randint(10)\n",
        "    \n",
        "    xs.append(x)\n",
        "    ys.append(y)\n",
        "  \n",
        "  return xs, ys\n",
        "\n",
        "fig = plt.figure()\n",
        "ax1 = plt.subplot2grid((5, 2), (0, 0), rowspan=1, colspan=2)\n",
        "ax2 = plt.subplot2grid((5, 2), (1, 0), rowspan=3, colspan=2)\n",
        "ax3 = plt.subplot2grid((5, 2), (4, 0), rowspan=1, colspan=1)\n",
        "ax4 = plt.subplot2grid((5, 2), (4, 1), rowspan=1, colspan=1)\n",
        "\n",
        "x, y = random_plots()\n",
        "ax1.plot(x, y)\n",
        "\n",
        "x, y = random_plots()\n",
        "ax2.plot(x, y)\n",
        "\n",
        "x, y = random_plots()\n",
        "ax3.plot(x, y)\n",
        "\n",
        "x, y = random_plots()\n",
        "ax4.plot(x, y)\n",
        "\n",
        "plt.tight_layout()\n",
        "plt.show()"
      ],
      "execution_count": 0,
      "outputs": []
    },
    {
      "cell_type": "markdown",
      "metadata": {
        "colab_type": "text",
        "id": "fllyxKu8edm6"
      },
      "source": [
        "## Plot styles\n",
        "\n",
        "Colaboratory charts use [Seaborn's](https://seaborn.pydata.org) custom styling by default. To customize styling further please see the [matplotlib docs](https://matplotlib.org/users/style_sheets.html)."
      ]
    },
    {
      "cell_type": "markdown",
      "metadata": {
        "colab_type": "text",
        "id": "Xn0jLwr8evoR"
      },
      "source": [
        "## 3D Graphs"
      ]
    },
    {
      "cell_type": "markdown",
      "metadata": {
        "colab_type": "text",
        "id": "DrRCtocXe9SB"
      },
      "source": [
        "### 3D Scatter Plots"
      ]
    },
    {
      "cell_type": "code",
      "metadata": {
        "colab_type": "code",
        "id": "Eo2bdDQ5GZ76",
        "colab": {}
      },
      "source": [
        "import matplotlib.pyplot as plt\n",
        "import numpy as np\n",
        "from mpl_toolkits.mplot3d import axes3d\n",
        "\n",
        "fig = plt.figure()\n",
        "ax = fig.add_subplot(111, projection = '3d')\n",
        "\n",
        "x1 = [1, 2, 3, 4, 5, 6, 7, 8, 9, 10]\n",
        "y1 = np.random.randint(10, size=10)\n",
        "z1 = np.random.randint(10, size=10)\n",
        "\n",
        "x2 = [-1, -2, -3, -4, -5, -6, -7, -8, -9, -10]\n",
        "y2 = np.random.randint(-10, 0, size=10)\n",
        "z2 = np.random.randint(10, size=10)\n",
        "\n",
        "ax.scatter(x1, y1, z1, c='b', marker='o', label='blue')\n",
        "ax.scatter(x2, y2, z2, c='g', marker='D', label='green')\n",
        "\n",
        "ax.set_xlabel('x axis')\n",
        "ax.set_ylabel('y axis')\n",
        "ax.set_zlabel('z axis')\n",
        "plt.title(\"3D Scatter Plot Example\")\n",
        "plt.legend()\n",
        "plt.tight_layout()\n",
        "plt.show()"
      ],
      "execution_count": 0,
      "outputs": []
    },
    {
      "cell_type": "markdown",
      "metadata": {
        "colab_type": "text",
        "id": "MXVPkFpTfCE-"
      },
      "source": [
        "### 3D Bar Plots"
      ]
    },
    {
      "cell_type": "code",
      "metadata": {
        "colab_type": "code",
        "id": "YGi1XPCrGsQz",
        "colab": {}
      },
      "source": [
        "import matplotlib.pyplot as plt\n",
        "import numpy as np\n",
        "\n",
        "fig = plt.figure()\n",
        "ax = fig.add_subplot(111, projection = '3d')\n",
        "\n",
        "x = [1, 2, 3, 4, 5, 6, 7, 8, 9, 10]\n",
        "y = np.random.randint(10, size=10)\n",
        "z = np.zeros(10)\n",
        "\n",
        "dx = np.ones(10)\n",
        "dy = np.ones(10)\n",
        "dz = [1, 2, 3, 4, 5, 6, 7, 8, 9, 10]\n",
        "\n",
        "ax.bar3d(x, y, z, dx, dy, dz, color='g')\n",
        "\n",
        "ax.set_xlabel('x axis')\n",
        "ax.set_ylabel('y axis')\n",
        "ax.set_zlabel('z axis')\n",
        "plt.title(\"3D Bar Chart Example\")\n",
        "plt.tight_layout()\n",
        "plt.show()"
      ],
      "execution_count": 0,
      "outputs": []
    },
    {
      "cell_type": "markdown",
      "metadata": {
        "colab_type": "text",
        "id": "Xbey0KVpfIbQ"
      },
      "source": [
        "### Wireframe Plots"
      ]
    },
    {
      "cell_type": "code",
      "metadata": {
        "colab_type": "code",
        "id": "60f2SO4jIfQz",
        "colab": {}
      },
      "source": [
        "import matplotlib.pyplot as plt\n",
        "\n",
        "fig = plt.figure()\n",
        "ax = fig.add_subplot(111, projection = '3d')\n",
        "\n",
        "x, y, z = axes3d.get_test_data()\n",
        "\n",
        "ax.plot_wireframe(x, y, z, rstride = 2, cstride = 2)\n",
        "\n",
        "plt.title(\"Wireframe Plot Example\")\n",
        "plt.tight_layout()\n",
        "plt.show()"
      ],
      "execution_count": 0,
      "outputs": []
    },
    {
      "cell_type": "markdown",
      "metadata": {
        "colab_type": "text",
        "id": "cRkuifc7PazR"
      },
      "source": [
        "## Seaborn\n",
        "\n",
        "There are several libraries layered on top of Matplotlib that you can use in Colab. One that is worth highlighting is [Seaborn](http://seaborn.pydata.org):"
      ]
    },
    {
      "cell_type": "code",
      "metadata": {
        "cellView": "both",
        "colab_type": "code",
        "id": "el13bTbyPRw4",
        "colab": {}
      },
      "source": [
        "import matplotlib.pyplot as plt\n",
        "import numpy as np\n",
        "import seaborn as sns\n",
        "\n",
        "# Generate some random data\n",
        "num_points = 20\n",
        "# x will be 5, 6, 7... but also twiddled randomly\n",
        "x = 5 + np.arange(num_points) + np.random.randn(num_points)\n",
        "# y will be 10, 11, 12... but twiddled even more randomly\n",
        "y = 10 + np.arange(num_points) + 5 * np.random.randn(num_points)\n",
        "sns.regplot(x, y)\n",
        "plt.show()"
      ],
      "execution_count": 0,
      "outputs": []
    },
    {
      "cell_type": "markdown",
      "metadata": {
        "colab_type": "text",
        "id": "MoWj1knmTZPI"
      },
      "source": [
        "That's a simple scatterplot with a nice regression line fit to it, all with just one call to Seaborn's [regplot](http://seaborn.pydata.org/generated/seaborn.regplot.html#seaborn.regplot).\n",
        "\n",
        "Here's a Seaborn [heatmap](https://seaborn.pydata.org/generated/seaborn.heatmap.html):"
      ]
    },
    {
      "cell_type": "code",
      "metadata": {
        "cellView": "both",
        "colab_type": "code",
        "id": "Fjw7UfGZQcL9",
        "colab": {}
      },
      "source": [
        "import matplotlib.pyplot as plt\n",
        "import numpy as np\n",
        "\n",
        "# Make a 10 x 10 heatmap of some random data\n",
        "side_length = 10\n",
        "# Start with a 10 x 10 matrix with values randomized around 5\n",
        "data = 5 + np.random.randn(side_length, side_length)\n",
        "# The next two lines make the values larger as we get closer to (9, 9)\n",
        "data += np.arange(side_length)\n",
        "data += np.reshape(np.arange(side_length), (side_length, 1))\n",
        "# Generate the heatmap\n",
        "sns.heatmap(data)\n",
        "plt.show()"
      ],
      "execution_count": 0,
      "outputs": []
    },
    {
      "cell_type": "markdown",
      "metadata": {
        "colab_type": "text",
        "id": "beTgCbVa_wFA"
      },
      "source": [
        "## Altair"
      ]
    },
    {
      "cell_type": "markdown",
      "metadata": {
        "colab_type": "text",
        "id": "610XkhS2Atb0"
      },
      "source": [
        "[Altair](http://altair-viz.github.io) is a declarative visualization library for creating interactive visualizations in Python, and is installed and enabled in Colab by default.\n",
        "\n",
        "For example, here is an interactive scatter plot:"
      ]
    },
    {
      "cell_type": "code",
      "metadata": {
        "colab_type": "code",
        "id": "lIYdn1woOS1n",
        "colab": {}
      },
      "source": [
        "import altair as alt\n",
        "from vega_datasets import data\n",
        "cars = data.cars()\n",
        "\n",
        "alt.Chart(cars).mark_point().encode(\n",
        "    x='Horsepower',\n",
        "    y='Miles_per_Gallon',\n",
        "    color='Origin',\n",
        ").interactive()"
      ],
      "execution_count": 0,
      "outputs": []
    },
    {
      "cell_type": "markdown",
      "metadata": {
        "colab_type": "text",
        "id": "zPAYx6C_tSdc"
      },
      "source": [
        "For more examples of Altair plots, see the [Altair snippets notebook](/notebooks/snippets/altair.ipynb) or the external [Altair Example Gallery](https://altair-viz.github.io/gallery/)."
      ]
    },
    {
      "cell_type": "markdown",
      "metadata": {
        "colab_type": "text",
        "id": "MYqcrcKLO4xe"
      },
      "source": [
        "## Plotly"
      ]
    },
    {
      "cell_type": "markdown",
      "metadata": {
        "colab_type": "text",
        "id": "niTJd49yO4xf"
      },
      "source": [
        "### Cell configuration\n",
        "This method pre-populates the outputframe with the configuration that Plotly expects and must be executed for every cell which is displaying a Plotly graph.\n"
      ]
    },
    {
      "cell_type": "code",
      "metadata": {
        "colab_type": "code",
        "id": "WWbPMtDkO4xg",
        "colab": {}
      },
      "source": [
        "def enable_plotly_in_cell():\n",
        "  import IPython\n",
        "  from plotly.offline import init_notebook_mode\n",
        "  display(IPython.core.display.HTML('''\n",
        "        <script src=\"/static/components/requirejs/require.js\"></script>\n",
        "  '''))\n",
        "  init_notebook_mode(connected=False)"
      ],
      "execution_count": 0,
      "outputs": []
    },
    {
      "cell_type": "markdown",
      "metadata": {
        "colab_type": "text",
        "id": "ZFFeVI4yO4xi"
      },
      "source": [
        "### Sample"
      ]
    },
    {
      "cell_type": "code",
      "metadata": {
        "colab_type": "code",
        "id": "8YCVGqZkJJxT",
        "colab": {}
      },
      "source": [
        "from plotly.offline import iplot\n",
        "import plotly.graph_objs as go\n",
        "\n",
        "enable_plotly_in_cell()\n",
        "\n",
        "data = [\n",
        "    go.Contour(\n",
        "        z=[[10, 10.625, 12.5, 15.625, 20],\n",
        "           [5.625, 6.25, 8.125, 11.25, 15.625],\n",
        "           [2.5, 3.125, 5., 8.125, 12.5],\n",
        "           [0.625, 1.25, 3.125, 6.25, 10.625],\n",
        "           [0, 0.625, 2.5, 5.625, 10]]\n",
        "    )\n",
        "]\n",
        "iplot(data)"
      ],
      "execution_count": 0,
      "outputs": []
    },
    {
      "cell_type": "markdown",
      "metadata": {
        "colab_type": "text",
        "id": "Vy4On-BvO4xp"
      },
      "source": [
        "### Plotly Pre-execute Hook\n",
        "\n",
        "If you wish to automatically load the required resources within each cell, you can add the ``enable_plotly_in_cell`` function to a Jupyter pre-execute hook and it will be automaticaly executed before any cell execution:"
      ]
    },
    {
      "cell_type": "code",
      "metadata": {
        "colab_type": "code",
        "id": "yrkTy0G1O4xq",
        "colab": {}
      },
      "source": [
        "get_ipython().events.register('pre_run_cell', enable_plotly_in_cell)"
      ],
      "execution_count": 0,
      "outputs": []
    },
    {
      "cell_type": "markdown",
      "metadata": {
        "colab_type": "text",
        "id": "Q48hGPK7O4xz"
      },
      "source": [
        "Because this pre-run hook causes additional javascript resources to be loaded in each cell output, we will disable it here:"
      ]
    },
    {
      "cell_type": "code",
      "metadata": {
        "colab_type": "code",
        "id": "PLG84YjoO4x0",
        "colab": {}
      },
      "source": [
        "get_ipython().events.unregister('pre_run_cell', enable_plotly_in_cell)"
      ],
      "execution_count": 0,
      "outputs": []
    },
    {
      "cell_type": "markdown",
      "metadata": {
        "colab_type": "text",
        "id": "JGnotb1n73Yk"
      },
      "source": [
        "## Bokeh"
      ]
    },
    {
      "cell_type": "markdown",
      "metadata": {
        "colab_type": "text",
        "id": "WBw13toAKSZg"
      },
      "source": [
        "### Installation"
      ]
    },
    {
      "cell_type": "code",
      "metadata": {
        "colab_type": "code",
        "id": "iyzBfJwq72hC",
        "colab": {}
      },
      "source": [
        "!pip install bokeh"
      ],
      "execution_count": 0,
      "outputs": []
    },
    {
      "cell_type": "markdown",
      "metadata": {
        "colab_type": "text",
        "id": "J3dDw5_wKbpe"
      },
      "source": [
        "### Sample"
      ]
    },
    {
      "cell_type": "code",
      "metadata": {
        "colab_type": "code",
        "id": "vlOIt0zZ5uCz",
        "colab": {}
      },
      "source": [
        "import numpy as np\n",
        "from bokeh.plotting import figure, show\n",
        "from bokeh.io import output_notebook"
      ],
      "execution_count": 0,
      "outputs": []
    },
    {
      "cell_type": "code",
      "metadata": {
        "colab_type": "code",
        "id": "uKpMjg2m53Pg",
        "colab": {}
      },
      "source": [
        "N = 4000"
      ],
      "execution_count": 0,
      "outputs": []
    },
    {
      "cell_type": "code",
      "metadata": {
        "colab_type": "code",
        "id": "6YVlGlxQ54fH",
        "colab": {}
      },
      "source": [
        "x = np.random.random(size=N) * 100\n",
        "y = np.random.random(size=N) * 100\n",
        "radii = np.random.random(size=N) * 1.5\n",
        "colors = [\"#%02x%02x%02x\" % (r, g, 150) for r, g in zip(np.floor(50+2*x).astype(int), np.floor(30+2*y).astype(int))]"
      ],
      "execution_count": 0,
      "outputs": []
    },
    {
      "cell_type": "markdown",
      "metadata": {
        "colab_type": "text",
        "id": "wNmOIs7W8SKm"
      },
      "source": [
        "It's important that `output_notebook()` be called from within the cell which is executing."
      ]
    },
    {
      "cell_type": "code",
      "metadata": {
        "colab_type": "code",
        "id": "nv8P3UYm6SiQ",
        "colab": {}
      },
      "source": [
        "output_notebook()\n",
        "p = figure()\n",
        "p.circle(x, y, radius=radii, fill_color=colors, fill_alpha=0.6, line_color=None)\n",
        "show(p)"
      ],
      "execution_count": 0,
      "outputs": []
    }
  ]
}