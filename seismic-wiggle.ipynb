{
  "nbformat_minor": 0, 
  "nbformat": 4, 
  "cells": [
    {
      "execution_count": null, 
      "cell_type": "code", 
      "source": [
        "%matplotlib inline"
      ], 
      "outputs": [], 
      "metadata": {
        "collapsed": false
      }
    }, 
    {
      "source": [
        "\nPlotting seismic data with wiggles\n-----------------------------------\n\nOne way to plot seismic data is using black and white wiggles.\nFunction :func:`fatiando.vis.mpl.seismic_wiggle` does exactly this.\n\n\n"
      ], 
      "cell_type": "markdown", 
      "metadata": {}
    }, 
    {
      "execution_count": null, 
      "cell_type": "code", 
      "source": [
        "import numpy as np\nimport matplotlib.pyplot as plt\nfrom fatiando.seismic import conv\nfrom fatiando.vis.mpl import seismic_wiggle\n\n# We need some data to plot, so let's generate some using the convolution model\n# in fatiando.seismic.conv\nn_samples, n_traces = 400, 20\ndt = 2e-3    # the sampling interval\nvelocity = 1500*np.ones((n_samples, n_traces))\n# Our model will have a different velocity layer in the middle. This will cause\n# a reflection on the top and one on the bottom (with reversed polarity).\nvelocity[150:300, :] = 2500\n# For simplicity, we'll assume constant density when calculating the\n# reflectivity.\nrc = conv.reflectivity(velocity, 2000*np.ones_like(velocity))\ndata = conv.convolutional_model(rc, f=30, wavelet=conv.rickerwave, dt=dt)\n\n# Plot the data using wiggles\nplt.figure(figsize=(6, 5))\nplt.title(\"Seismic wiggles\")\n# The scale parameter makes the wiggles larger or smaller\nseismic_wiggle(data, dt=dt, scale=3, color='k')\nplt.ylabel('time (s)')\nplt.xlabel('trace')\nplt.show()"
      ], 
      "outputs": [], 
      "metadata": {
        "collapsed": false
      }
    }
  ], 
  "metadata": {
    "kernelspec": {
      "display_name": "Python 2", 
      "name": "python2", 
      "language": "python"
    }, 
    "language_info": {
      "mimetype": "text/x-python", 
      "nbconvert_exporter": "python", 
      "name": "python", 
      "file_extension": ".py", 
      "version": "2.7.12", 
      "pygments_lexer": "ipython2", 
      "codemirror_mode": {
        "version": 2, 
        "name": "ipython"
      }
    }
  }
}